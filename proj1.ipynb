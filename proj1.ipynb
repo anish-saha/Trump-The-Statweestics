{
 "cells": [
  {
   "cell_type": "markdown",
   "metadata": {},
   "source": [
    "# Project 1: Trump, Twitter, and Text\n",
    "\n",
    "Welcome to the first project of DS100! In this project, we will work with the Twitter API in order to analyze Donald Trump's tweets.\n",
    "\n",
    "**The project checkpoint is due 11:59pm Tuesday, Sept. 26.** The checkpoint is graded on *completeness*, not correctness. You must complete Questions 1-4 in order to get full credit for the checkpoint.\n",
    "\n",
    "**The entire project is due 11:59pm Tuesday, Oct 3.**\n",
    "\n",
    "*Fair warning:* This project involves significantly more challenging pandas operations than the previous homeworks. We strongly suggest you start early.\n",
    "\n",
    "**Grading:**\n",
    "\n",
    "The checkpoint is worth **10%** of the overall project grade and is graded on completeness.\n",
    "\n",
    "However, the final submission of the project will be graded on **correctness**.\n",
    "\n",
    "**Fun:**\n",
    "\n",
    "We intended this project to be fun! You will analyze actual data from the Twitter API — no precooked dataset this time around. You will also draw conclusions about the current (and often controversial) US President's tweet behavior. If you find yourself getting frustrated or stuck on one problem for too long, we suggest coming into office hours and working with friends in the class.\n",
    "\n",
    "With that in mind, let's get started!"
   ]
  },
  {
   "cell_type": "code",
   "execution_count": 4,
   "metadata": {},
   "outputs": [
    {
     "name": "stdout",
     "output_type": "stream",
     "text": [
      "=====================================================================\n",
      "Assignment: Project 1\n",
      "OK, version v1.12.10\n",
      "=====================================================================\n",
      "\n"
     ]
    }
   ],
   "source": [
    "# Run this cell to set up your notebook\n",
    "import csv\n",
    "import numpy as np\n",
    "import pandas as pd\n",
    "import matplotlib.pyplot as plt\n",
    "%matplotlib inline\n",
    "plt.style.use('fivethirtyeight')\n",
    "import seaborn as sns\n",
    "sns.set()\n",
    "sns.set_context(\"talk\")\n",
    "import re\n",
    "\n",
    "from IPython.display import display, Latex, Markdown\n",
    "from client.api.notebook import Notebook\n",
    "ok = Notebook('proj1.ok')"
   ]
  },
  {
   "cell_type": "code",
   "execution_count": 5,
   "metadata": {},
   "outputs": [
    {
     "name": "stdout",
     "output_type": "stream",
     "text": [
      "\n",
      "Open the following URL:\n",
      "\n",
      "https://okpy.org/client/login/\n",
      "\n",
      "After logging in, copy the code from the web page and paste it into the box.\n",
      "Then press the \"Enter\" key on your keyboard.\n",
      "\n",
      "Paste your code here: OwkfipraQPMQJ8DO0YkpFku74aAFlV\n",
      "Successfully logged in as asaha@berkeley.edu\n"
     ]
    }
   ],
   "source": [
    "# Log into OkPy. You may have to change this to ok.auth(force=True) if you run into\n",
    "# an OAuthError\n",
    "ok.auth(force=True)"
   ]
  },
  {
   "cell_type": "markdown",
   "metadata": {},
   "source": [
    "\n",
    "<br/><br/><br/>\n",
    "\n",
    "# Getting the dataset\n",
    "\n",
    "---\n",
    "\n",
    "Since we'll be looking at Twitter data, we need to download the data from Twitter!\n",
    "\n",
    "Twitter provides an API for downloading tweet data in large batches.  The `tweepy` package makes it fairly easy to use."
   ]
  },
  {
   "cell_type": "markdown",
   "metadata": {},
   "source": [
    "#### Setup\n",
    "Install `tweepy`, if you don't already have it.  (Be sure to activate your Conda environment for the class first.  Then run `pip install tweepy`.)"
   ]
  },
  {
   "cell_type": "code",
   "execution_count": 6,
   "metadata": {
    "collapsed": true
   },
   "outputs": [],
   "source": [
    "## Make sure you are in your ds100 conda environment.\n",
    "## Uncomment the following line to install tweepy\n",
    "# !pip install tweepy"
   ]
  },
  {
   "cell_type": "code",
   "execution_count": 7,
   "metadata": {
    "collapsed": true
   },
   "outputs": [],
   "source": [
    "# The following should run\n",
    "import tweepy"
   ]
  },
  {
   "cell_type": "markdown",
   "metadata": {},
   "source": [
    "There are instructions on using `tweepy` [here](http://tweepy.readthedocs.io/en/v3.5.0/getting_started.html), but we will give you example code.\n",
    "\n",
    "Twitter requires you to have authentication keys to access their API.  To get your keys, you'll have to sign up as a Twitter developer.  The next question will walk you through this process."
   ]
  },
  {
   "cell_type": "markdown",
   "metadata": {},
   "source": [
    "---\n",
    "<br/><br/>\n",
    "\n",
    "## Question 1\n",
    "\n",
    "Follow the instructions below to get your Twitter API keys.  Read the instructions completely before starting.\n",
    "\n",
    "1. [Create a Twitter account](https://twitter.com).  You can use an existing account if you have one.\n",
    "2. Under account settings, add your phone number to the account.\n",
    "3. [Create a Twitter developer account](https://dev.twitter.com/resources/signup).  Attach it to your Twitter account.\n",
    "4. Once you're logged into your developer account, [create an application for this assignment](https://apps.twitter.com/app/new).  You can call it whatever you want, and you can write any URL when it asks for a web site.\n",
    "5. On the page for that application, find your Consumer Key and Consumer Secret.\n",
    "6. On the same page, create an Access Token.  Record the resulting Access Token and Access Token Secret.\n",
    "7. Edit the file [keys.json](keys.json) and replace the placeholders with your keys.  Don't turn in that file."
   ]
  },
  {
   "cell_type": "markdown",
   "metadata": {},
   "source": [
    "\n",
    "## WARNING (Please Read) !!!!\n",
    "\n",
    "\n",
    "### Protect your Twitter Keys\n",
    "<span style=\"color:red\">\n",
    "If someone has your authentication keys, they can access your Twitter account and post as you!  So don't give them to anyone, and **don't write them down in this notebook**. \n",
    "</span>\n",
    "The usual way to store sensitive information like this is to put it in a separate file and read it programmatically.  That way, you can share the rest of your code without sharing your keys.  That's why we're asking you to put your keys in `keys.json` for this assignment.\n",
    "\n",
    "\n",
    "### Avoid making too many API calls.\n",
    "\n",
    "<span style=\"color:red\">\n",
    "Twitter limits developers to a certain rate of requests for data.  If you make too many requests in a short period of time, you'll have to wait awhile (around 15 minutes) before you can make more.  </span> \n",
    "So carefully follow the code examples you see and don't rerun cells without thinking.  Instead, always save the data you've collected to a file.  We've provided templates to help you do that.\n",
    "\n",
    "\n",
    "### Be careful about which functions you call!\n",
    "\n",
    "<span style=\"color:red\">\n",
    "This API can retweet tweets, follow and unfollow people, and modify your twitter settings.  Be careful which functions you invoke! </span> One of your instructors accidentally re-tweeted some tweets because that instructor typed `retweet` instead of `retweet_count`. \n",
    "</span>\n"
   ]
  },
  {
   "cell_type": "code",
   "execution_count": 8,
   "metadata": {
    "collapsed": true
   },
   "outputs": [],
   "source": [
    "import json\n",
    "key_file = 'keys.json'\n",
    "# Loading your keys from keys.json (which you should have filled\n",
    "# in in question 1):\n",
    "with open(key_file) as f:\n",
    "    keys = json.load(f)\n",
    "# if you print or view the contents of keys be sure to delete the cell!"
   ]
  },
  {
   "cell_type": "markdown",
   "metadata": {},
   "source": [
    "This cell tests the Twitter authentication. It should run without errors or warnings and display your Twitter username."
   ]
  },
  {
   "cell_type": "code",
   "execution_count": 9,
   "metadata": {},
   "outputs": [
    {
     "name": "stdout",
     "output_type": "stream",
     "text": [
      "Your username is: anish__saha\n"
     ]
    }
   ],
   "source": [
    "import tweepy\n",
    "from tweepy import TweepError\n",
    "import logging\n",
    "\n",
    "try:\n",
    "    auth = tweepy.OAuthHandler(keys[\"consumer_key\"], keys[\"consumer_secret\"])\n",
    "    auth.set_access_token(keys[\"access_token\"], keys[\"access_token_secret\"])\n",
    "    api = tweepy.API(auth)\n",
    "    print(\"Your username is:\", api.auth.get_username())\n",
    "except TweepError as e:\n",
    "    logging.warning(\"There was a Tweepy error. Double check your API keys and try again.\")\n",
    "    logging.warning(e)"
   ]
  },
  {
   "cell_type": "markdown",
   "metadata": {},
   "source": [
    "---\n",
    "<br/><br/>\n",
    "\n",
    "\n",
    "## Question 2\n",
    "\n",
    "In the example below, we have loaded some tweets by @BerkeleyData.  Run it and read the code."
   ]
  },
  {
   "cell_type": "code",
   "execution_count": 10,
   "metadata": {
    "collapsed": true
   },
   "outputs": [],
   "source": [
    "from pathlib import Path\n",
    "\n",
    "ds_tweets_save_path = \"BerkeleyData_recent_tweets.pkl\"\n",
    "# Guarding against attempts to download the data multiple\n",
    "# times:\n",
    "if not Path(ds_tweets_save_path).is_file():\n",
    "    # Obtaining twitter keys\n",
    "    import json\n",
    "    key_file = 'keys.json'\n",
    "    # Loading your keys from keys.json (which you should have filled\n",
    "    # in in question 1):\n",
    "    with open(key_file) as f:\n",
    "        keys = json.load(f)\n",
    "    \n",
    "    # Authenticating:\n",
    "    import tweepy\n",
    "    auth = tweepy.OAuthHandler(keys[\"consumer_key\"], keys[\"consumer_secret\"])\n",
    "    auth.set_access_token(keys[\"access_token\"], keys[\"access_token_secret\"])\n",
    "    api = tweepy.API(auth)\n",
    "\n",
    "    # Getting as many recent tweets by @BerkeleyData as Twitter will let us have:\n",
    "    example_tweets = list(tweepy.Cursor(api.user_timeline, id=\"BerkeleyData\").items())\n",
    "\n",
    "    # Saving the tweets to a file as \"pickled\" objects:\n",
    "    with open(ds_tweets_save_path, \"wb\") as f:\n",
    "        import pickle\n",
    "        pickle.dump(example_tweets, f)\n",
    "\n",
    "# Re-loading the results:\n",
    "with open(ds_tweets_save_path, \"rb\") as f:\n",
    "    import pickle\n",
    "    example_tweets = pickle.load(f)"
   ]
  },
  {
   "cell_type": "markdown",
   "metadata": {},
   "source": [
    "Assuming everything ran correctly you should be able to look at the first tweet by running the cell below:"
   ]
  },
  {
   "cell_type": "code",
   "execution_count": 11,
   "metadata": {
    "scrolled": true
   },
   "outputs": [
    {
     "name": "stdout",
     "output_type": "stream",
     "text": [
      "{'contributors': None,\n",
      " 'coordinates': None,\n",
      " 'created_at': 'Fri Sep 15 16:30:36 +0000 2017',\n",
      " 'entities': {'hashtags': [{'indices': [56, 72], 'text': 'machinelearning'}],\n",
      "              'symbols': [],\n",
      "              'urls': [{'display_url': 'bit.ly/2wOlDcJ',\n",
      "                        'expanded_url': 'http://bit.ly/2wOlDcJ',\n",
      "                        'indices': [106, 129],\n",
      "                        'url': 'https://t.co/poQtalGvNn'}],\n",
      "              'user_mentions': [{'id': 22873424,\n",
      "                                 'id_str': '22873424',\n",
      "                                 'indices': [130, 140],\n",
      "                                 'name': 'CIO.com',\n",
      "                                 'screen_name': 'CIOonline'}]},\n",
      " 'favorite_count': 3,\n",
      " 'favorited': False,\n",
      " 'geo': None,\n",
      " 'id': 908729774100578304,\n",
      " 'id_str': '908729774100578304',\n",
      " 'in_reply_to_screen_name': None,\n",
      " 'in_reply_to_status_id': None,\n",
      " 'in_reply_to_status_id_str': None,\n",
      " 'in_reply_to_user_id': None,\n",
      " 'in_reply_to_user_id_str': None,\n",
      " 'is_quote_status': False,\n",
      " 'lang': 'en',\n",
      " 'place': None,\n",
      " 'possibly_sensitive': False,\n",
      " 'retweet_count': 3,\n",
      " 'retweeted': False,\n",
      " 'source': '<a href=\"http://www.hootsuite.com\" rel=\"nofollow\">Hootsuite</a>',\n",
      " 'text': 'What exactly is machine learning? Here’s a look at what '\n",
      "         '#machinelearning is and how it can be used today: '\n",
      "         'https://t.co/poQtalGvNn @CIOonline',\n",
      " 'truncated': False,\n",
      " 'user': {'contributors_enabled': False,\n",
      "          'created_at': 'Thu Feb 28 14:37:26 +0000 2013',\n",
      "          'default_profile': False,\n",
      "          'default_profile_image': False,\n",
      "          'description': 'An online Master of Information and Data Science '\n",
      "                         '(MIDS) degree from the UC Berkeley School of '\n",
      "                         'Information. Learn more at: http://t.co/zf6gfBWovQ',\n",
      "          'entities': {'description': {'urls': [{'display_url': 'bit.ly/tBerkeleyData',\n",
      "                                                 'expanded_url': 'http://bit.ly/tBerkeleyData',\n",
      "                                                 'indices': [122, 144],\n",
      "                                                 'url': 'http://t.co/zf6gfBWovQ'}]},\n",
      "                       'url': {'urls': [{'display_url': 'datascience.berkeley.edu',\n",
      "                                         'expanded_url': 'http://datascience.berkeley.edu',\n",
      "                                         'indices': [0, 22],\n",
      "                                         'url': 'http://t.co/S79Ul3oCaa'}]}},\n",
      "          'favourites_count': 46,\n",
      "          'follow_request_sent': False,\n",
      "          'followers_count': 10186,\n",
      "          'following': False,\n",
      "          'friends_count': 403,\n",
      "          'geo_enabled': False,\n",
      "          'has_extended_profile': False,\n",
      "          'id': 1227698863,\n",
      "          'id_str': '1227698863',\n",
      "          'is_translation_enabled': False,\n",
      "          'is_translator': False,\n",
      "          'lang': 'en',\n",
      "          'listed_count': 462,\n",
      "          'location': 'Berkeley, CA',\n",
      "          'name': 'datascience@berkeley',\n",
      "          'notifications': False,\n",
      "          'profile_background_color': 'CCCCCC',\n",
      "          'profile_background_image_url': 'http://pbs.twimg.com/profile_background_images/378800000096571211/5f9ba86a5d2b87c2c48544133c25b092.jpeg',\n",
      "          'profile_background_image_url_https': 'https://pbs.twimg.com/profile_background_images/378800000096571211/5f9ba86a5d2b87c2c48544133c25b092.jpeg',\n",
      "          'profile_background_tile': False,\n",
      "          'profile_banner_url': 'https://pbs.twimg.com/profile_banners/1227698863/1502212054',\n",
      "          'profile_image_url': 'http://pbs.twimg.com/profile_images/894968224973897728/lI8iiF3J_normal.jpg',\n",
      "          'profile_image_url_https': 'https://pbs.twimg.com/profile_images/894968224973897728/lI8iiF3J_normal.jpg',\n",
      "          'profile_link_color': '5173B6',\n",
      "          'profile_sidebar_border_color': 'FFFFFF',\n",
      "          'profile_sidebar_fill_color': 'DDEEF6',\n",
      "          'profile_text_color': '333333',\n",
      "          'profile_use_background_image': True,\n",
      "          'protected': False,\n",
      "          'screen_name': 'BerkeleyData',\n",
      "          'statuses_count': 2186,\n",
      "          'time_zone': 'Eastern Time (US & Canada)',\n",
      "          'translator_type': 'none',\n",
      "          'url': 'http://t.co/S79Ul3oCaa',\n",
      "          'utc_offset': -14400,\n",
      "          'verified': False}}\n"
     ]
    }
   ],
   "source": [
    "# Looking at one tweet object, which has type Status: \n",
    "from pprint import pprint # ...to get a more easily-readable view.\n",
    "pprint(example_tweets[0]._json)"
   ]
  },
  {
   "cell_type": "markdown",
   "metadata": {
    "collapsed": true
   },
   "source": [
    "### What you need to do. \n",
    "\n",
    "Re-factor the above code fragment into reusable snippets below.  You should not need to make major modifications; this is mostly an exercise in understanding the above code block. "
   ]
  },
  {
   "cell_type": "code",
   "execution_count": 12,
   "metadata": {
    "collapsed": true,
    "tags": [
     "student"
    ]
   },
   "outputs": [],
   "source": [
    "def load_keys(path):\n",
    "    \"\"\"Loads your Twitter authentication keys from a file on disk.\n",
    "    \n",
    "    Args:\n",
    "        path (str): The path to your key file.  The file should\n",
    "          be in JSON format and look like this (but filled in):\n",
    "            {\n",
    "                \"consumer_key\": \"<your Consumer Key here>\",\n",
    "                \"consumer_secret\":  \"<your Consumer Secret here>\",\n",
    "                \"access_token\": \"<your Access Token here>\",\n",
    "                \"access_token_secret\": \"<your Access Token Secret here>\"\n",
    "            }\n",
    "    \n",
    "    Returns:\n",
    "        dict: A dictionary mapping key names (like \"consumer_key\") to\n",
    "          key values.\"\"\"\n",
    "    import json\n",
    "    with open(path) as f:\n",
    "        keys = json.load(f)\n",
    "    return keys"
   ]
  },
  {
   "cell_type": "code",
   "execution_count": 13,
   "metadata": {
    "collapsed": true,
    "tags": [
     "student"
    ]
   },
   "outputs": [],
   "source": [
    "def download_recent_tweets_by_user(user_account_name, keys):\n",
    "    \"\"\"Downloads tweets by one Twitter user.\n",
    "\n",
    "    Args:\n",
    "        user_account_name (str): The name of the Twitter account\n",
    "          whose tweets will be downloaded.\n",
    "        keys (dict): A Python dictionary with Twitter authentication\n",
    "          keys (strings), like this (but filled in):\n",
    "            {\n",
    "                \"consumer_key\": \"<your Consumer Key here>\",\n",
    "                \"consumer_secret\":  \"<your Consumer Secret here>\",\n",
    "                \"access_token\": \"<your Access Token here>\",\n",
    "                \"access_token_secret\": \"<your Access Token Secret here>\"\n",
    "            }\n",
    "\n",
    "    Returns:\n",
    "        list: A list of Status objects, each representing one tweet.\"\"\"\n",
    "    import tweepy\n",
    "    auth = tweepy.OAuthHandler(keys[\"consumer_key\"], keys[\"consumer_secret\"])\n",
    "    auth.set_access_token(keys[\"access_token\"], keys[\"access_token_secret\"])\n",
    "    api = tweepy.API(auth)\n",
    "\n",
    "    results = list(tweepy.Cursor(api.user_timeline, id=user_account_name).items())\n",
    "    return results"
   ]
  },
  {
   "cell_type": "code",
   "execution_count": 14,
   "metadata": {
    "collapsed": true,
    "tags": [
     "student"
    ]
   },
   "outputs": [],
   "source": [
    "def save_tweets(tweets, path):\n",
    "    \"\"\"Saves a list of tweets to a file in the local filesystem.\n",
    "    \n",
    "    This function makes no guarantee about the format of the saved\n",
    "    tweets, **except** that calling load_tweets(path) after\n",
    "    save_tweets(tweets, path) will produce the same list of tweets\n",
    "    and that only the file at the given path is used to store the\n",
    "    tweets.  (That means you can implement this function however\n",
    "    you want, as long as saving and loading works!)\n",
    "\n",
    "    Args:\n",
    "        tweets (list): A list of tweet objects (of type Status) to\n",
    "          be saved.\n",
    "        path (str): The place where the tweets will be saved.\n",
    "\n",
    "    Returns:\n",
    "        None\"\"\"\n",
    "    with open(path, \"wb\") as f:\n",
    "        import pickle\n",
    "        pickle.dump(tweets, f)\n",
    "    return f"
   ]
  },
  {
   "cell_type": "code",
   "execution_count": 15,
   "metadata": {
    "collapsed": true,
    "tags": [
     "student"
    ]
   },
   "outputs": [],
   "source": [
    "def load_tweets(path):\n",
    "    \"\"\"Loads tweets that have previously been saved.\n",
    "    \n",
    "    Calling load_tweets(path) after save_tweets(tweets, path)\n",
    "    will produce the same list of tweets.\n",
    "    \n",
    "    Args:\n",
    "        path (str): The place where the tweets were be saved.\n",
    "\n",
    "    Returns:\n",
    "        list: A list of Status objects, each representing one tweet.\"\"\"\n",
    "    with open(path, \"rb\") as f:\n",
    "        import pickle\n",
    "        results = pickle.load(f)\n",
    "    return results"
   ]
  },
  {
   "cell_type": "code",
   "execution_count": 16,
   "metadata": {
    "collapsed": true,
    "tags": [
     "student"
    ]
   },
   "outputs": [],
   "source": [
    "def get_tweets_with_cache(user_account_name, keys_path):\n",
    "    \"\"\"Get recent tweets from one user, loading from a disk cache if available.\n",
    "    \n",
    "    The first time you call this function, it will download tweets by\n",
    "    a user.  Subsequent calls will not re-download the tweets; instead\n",
    "    they'll load the tweets from a save file in your local filesystem.\n",
    "    All this is done using the functions you defined in the previous cell.\n",
    "    This has benefits and drawbacks that often appear when you cache data:\n",
    "    \n",
    "    +: Using this function will prevent extraneous usage of the Twitter API.\n",
    "    +: You will get your data much faster after the first time it's called.\n",
    "    -: If you really want to re-download the tweets (say, to get newer ones,\n",
    "       or because you screwed up something in the previous cell and your\n",
    "       tweets aren't what you wanted), you'll have to find the save file\n",
    "       (which will look like <something>_recent_tweets.pkl) and delete it.\n",
    "    \n",
    "    Args:\n",
    "        user_account_name (str): The Twitter handle of a user, without the @.\n",
    "        keys_path (str): The path to a JSON keys file in your filesystem.\n",
    "    \"\"\"\n",
    "    save_path = user_account_name + \"_recent_tweets.pkl\"    \n",
    "    if not Path(save_path).is_file():\n",
    "        loader = load_keys(keys_path)\n",
    "        results = download_recent_tweets_by_user(user_account_name, loader)\n",
    "        save_tweets(results, save_path)\n",
    "    tweets = load_tweets(save_path)\n",
    "    return tweets"
   ]
  },
  {
   "cell_type": "markdown",
   "metadata": {},
   "source": [
    "If everything was implemented correctly you should be able to obtain roughly the last 3000 tweets by the `realdonaldtrump`."
   ]
  },
  {
   "cell_type": "code",
   "execution_count": 17,
   "metadata": {},
   "outputs": [
    {
     "name": "stdout",
     "output_type": "stream",
     "text": [
      "Number of tweets downloaded: 3211\n"
     ]
    }
   ],
   "source": [
    "# When you are done, run this cell to load @realdonaldtrump's tweets.\n",
    "# Note the function get_tweets_with_cache.  You may find it useful\n",
    "# later.\n",
    "trump_tweets = get_tweets_with_cache(\"realdonaldtrump\", key_file)\n",
    "print(\"Number of tweets downloaded:\", len(trump_tweets))"
   ]
  },
  {
   "cell_type": "markdown",
   "metadata": {},
   "source": [
    "---\n",
    "<br/><br/>\n",
    "\n",
    "## Question 3\n",
    "\n",
    "In this question you will extract important fields from the tweet objects and convert them into a Pandas dataframe for further analysis."
   ]
  },
  {
   "cell_type": "markdown",
   "metadata": {},
   "source": [
    "Each trump tweet is stored in a `tweepy.models.Status` object:"
   ]
  },
  {
   "cell_type": "code",
   "execution_count": 18,
   "metadata": {},
   "outputs": [
    {
     "data": {
      "text/plain": [
       "tweepy.models.Status"
      ]
     },
     "execution_count": 18,
     "metadata": {},
     "output_type": "execute_result"
    }
   ],
   "source": [
    "type(trump_tweets[0])"
   ]
  },
  {
   "cell_type": "markdown",
   "metadata": {},
   "source": [
    "We can list all the members of this object by looking at the private `__dict__` variable:"
   ]
  },
  {
   "cell_type": "code",
   "execution_count": 19,
   "metadata": {
    "scrolled": true
   },
   "outputs": [
    {
     "data": {
      "text/plain": [
       "['_json',\n",
       " 'created_at',\n",
       " 'id',\n",
       " 'id_str',\n",
       " 'text',\n",
       " 'truncated',\n",
       " 'entities',\n",
       " 'source',\n",
       " 'source_url',\n",
       " 'in_reply_to_status_id',\n",
       " 'in_reply_to_status_id_str',\n",
       " 'in_reply_to_user_id',\n",
       " 'in_reply_to_user_id_str',\n",
       " 'in_reply_to_screen_name',\n",
       " 'author',\n",
       " 'user',\n",
       " 'geo',\n",
       " 'coordinates',\n",
       " 'place',\n",
       " 'contributors',\n",
       " 'is_quote_status',\n",
       " 'retweet_count',\n",
       " 'favorite_count',\n",
       " 'favorited',\n",
       " 'retweeted',\n",
       " 'lang']"
      ]
     },
     "execution_count": 19,
     "metadata": {},
     "output_type": "execute_result"
    }
   ],
   "source": [
    "list(trump_tweets[0].__dict__.keys())"
   ]
  },
  {
   "cell_type": "markdown",
   "metadata": {},
   "source": [
    "Therefore we can extract a field simply by reading its value:"
   ]
  },
  {
   "cell_type": "code",
   "execution_count": 20,
   "metadata": {},
   "outputs": [
    {
     "data": {
      "text/plain": [
       "\"...Save your energy Rex, we'll do what has to be done!\""
      ]
     },
     "execution_count": 20,
     "metadata": {},
     "output_type": "execute_result"
    }
   ],
   "source": [
    "trump_tweets[0].text"
   ]
  },
  {
   "cell_type": "markdown",
   "metadata": {},
   "source": [
    "### What you need to do\n",
    "\n",
    "Construct a DataFrame called `trump`. The index of the dataframe should be the ID of each tweet (looks something like `907698529606541312`). It should have these columns:\n",
    "\n",
    "- `time`: The time the tweet was created.\n",
    "- `source`: The source device of the tweet.\n",
    "- `text`: The text of the tweet.\n",
    "- `retweet_count`: The retweet count of the tweet. "
   ]
  },
  {
   "cell_type": "code",
   "execution_count": 21,
   "metadata": {
    "scrolled": true,
    "tags": [
     "student"
    ]
   },
   "outputs": [
    {
     "data": {
      "text/html": [
       "<div>\n",
       "<style>\n",
       "    .dataframe thead tr:only-child th {\n",
       "        text-align: right;\n",
       "    }\n",
       "\n",
       "    .dataframe thead th {\n",
       "        text-align: left;\n",
       "    }\n",
       "\n",
       "    .dataframe tbody tr th {\n",
       "        vertical-align: top;\n",
       "    }\n",
       "</style>\n",
       "<table border=\"1\" class=\"dataframe\">\n",
       "  <thead>\n",
       "    <tr style=\"text-align: right;\">\n",
       "      <th></th>\n",
       "      <th>retweet_count</th>\n",
       "      <th>source</th>\n",
       "      <th>text</th>\n",
       "      <th>time</th>\n",
       "    </tr>\n",
       "  </thead>\n",
       "  <tbody>\n",
       "    <tr>\n",
       "      <th>914497947517227008</th>\n",
       "      <td>8039</td>\n",
       "      <td>Twitter for iPhone</td>\n",
       "      <td>...Save your energy Rex, we'll do what has to ...</td>\n",
       "      <td>2017-10-01 14:31:15</td>\n",
       "    </tr>\n",
       "    <tr>\n",
       "      <th>914497877543735296</th>\n",
       "      <td>14019</td>\n",
       "      <td>Twitter for iPhone</td>\n",
       "      <td>I told Rex Tillerson, our wonderful Secretary ...</td>\n",
       "      <td>2017-10-01 14:30:59</td>\n",
       "    </tr>\n",
       "    <tr>\n",
       "      <th>914467502251528192</th>\n",
       "      <td>8328</td>\n",
       "      <td>Twitter for iPhone</td>\n",
       "      <td>...for safety. Thank you to the Governor of P....</td>\n",
       "      <td>2017-10-01 12:30:17</td>\n",
       "    </tr>\n",
       "    <tr>\n",
       "      <th>914466534365569025</th>\n",
       "      <td>9274</td>\n",
       "      <td>Twitter for iPhone</td>\n",
       "      <td>...people are now starting to recognize the am...</td>\n",
       "      <td>2017-10-01 12:26:26</td>\n",
       "    </tr>\n",
       "    <tr>\n",
       "      <th>914465475777695744</th>\n",
       "      <td>10886</td>\n",
       "      <td>Twitter for iPhone</td>\n",
       "      <td>We have done a great job with the almost impos...</td>\n",
       "      <td>2017-10-01 12:22:14</td>\n",
       "    </tr>\n",
       "    <tr>\n",
       "      <th>914461244702232577</th>\n",
       "      <td>8675</td>\n",
       "      <td>Twitter for iPhone</td>\n",
       "      <td>RT @SLandinSoCal: When you kneel for our #Nati...</td>\n",
       "      <td>2017-10-01 12:05:25</td>\n",
       "    </tr>\n",
       "    <tr>\n",
       "      <th>914310901855129601</th>\n",
       "      <td>23128</td>\n",
       "      <td>Twitter for iPhone</td>\n",
       "      <td>19,000 RESPECTING our National Anthem! #StandF...</td>\n",
       "      <td>2017-10-01 02:08:00</td>\n",
       "    </tr>\n",
       "    <tr>\n",
       "      <th>914269704440737792</th>\n",
       "      <td>6237</td>\n",
       "      <td>Twitter for iPhone</td>\n",
       "      <td>In analyzing the Alabama Primary race,FAKE NEW...</td>\n",
       "      <td>2017-09-30 23:24:18</td>\n",
       "    </tr>\n",
       "    <tr>\n",
       "      <th>914260261304860672</th>\n",
       "      <td>24722</td>\n",
       "      <td>Media Studio</td>\n",
       "      <td>Because of #FakeNews my people are not getting...</td>\n",
       "      <td>2017-09-30 22:46:47</td>\n",
       "    </tr>\n",
       "    <tr>\n",
       "      <th>914255264282480640</th>\n",
       "      <td>24527</td>\n",
       "      <td>Twitter for iPhone</td>\n",
       "      <td>Very important that NFL players STAND tomorrow...</td>\n",
       "      <td>2017-09-30 22:26:55</td>\n",
       "    </tr>\n",
       "    <tr>\n",
       "      <th>914252271982178306</th>\n",
       "      <td>11206</td>\n",
       "      <td>Twitter for iPhone</td>\n",
       "      <td>I will be in PR on Tues. to further ensure we ...</td>\n",
       "      <td>2017-09-30 22:15:02</td>\n",
       "    </tr>\n",
       "    <tr>\n",
       "      <th>914227642131509248</th>\n",
       "      <td>15630</td>\n",
       "      <td>Twitter for iPhone</td>\n",
       "      <td>Results of recovery efforts will speak much lo...</td>\n",
       "      <td>2017-09-30 20:37:10</td>\n",
       "    </tr>\n",
       "    <tr>\n",
       "      <th>914217658517737472</th>\n",
       "      <td>12561</td>\n",
       "      <td>Twitter for iPhone</td>\n",
       "      <td>We must all be united in offering assistance t...</td>\n",
       "      <td>2017-09-30 19:57:29</td>\n",
       "    </tr>\n",
       "    <tr>\n",
       "      <th>914217477495717889</th>\n",
       "      <td>6914</td>\n",
       "      <td>Twitter for iPhone</td>\n",
       "      <td>@ricardorossello ......#FakeNews critics are w...</td>\n",
       "      <td>2017-09-30 19:56:46</td>\n",
       "    </tr>\n",
       "    <tr>\n",
       "      <th>914217117695795201</th>\n",
       "      <td>8726</td>\n",
       "      <td>Twitter for iPhone</td>\n",
       "      <td>My Administration, Governor @RicardoRossello, ...</td>\n",
       "      <td>2017-09-30 19:55:20</td>\n",
       "    </tr>\n",
       "    <tr>\n",
       "      <th>914216744385904640</th>\n",
       "      <td>14084</td>\n",
       "      <td>Twitter for iPhone</td>\n",
       "      <td>To the people of Puerto Rico:\\nDo not believe ...</td>\n",
       "      <td>2017-09-30 19:53:51</td>\n",
       "    </tr>\n",
       "    <tr>\n",
       "      <th>914214237584674816</th>\n",
       "      <td>11329</td>\n",
       "      <td>Twitter for iPhone</td>\n",
       "      <td>Congresswoman Jennifer Gonzalez-Colon of Puert...</td>\n",
       "      <td>2017-09-30 19:43:54</td>\n",
       "    </tr>\n",
       "    <tr>\n",
       "      <th>914210813237489666</th>\n",
       "      <td>11392</td>\n",
       "      <td>Twitter for iPhone</td>\n",
       "      <td>Just spoke to Governor Kenneth Mapp of the U.S...</td>\n",
       "      <td>2017-09-30 19:30:17</td>\n",
       "    </tr>\n",
       "    <tr>\n",
       "      <th>914208123564494850</th>\n",
       "      <td>12692</td>\n",
       "      <td>Twitter for iPhone</td>\n",
       "      <td>The Governor of Puerto Rico, Ricardo Rossello,...</td>\n",
       "      <td>2017-09-30 19:19:36</td>\n",
       "    </tr>\n",
       "    <tr>\n",
       "      <th>914189344533024768</th>\n",
       "      <td>15650</td>\n",
       "      <td>Twitter for iPhone</td>\n",
       "      <td>Despite the Fake News Media in conjunction wit...</td>\n",
       "      <td>2017-09-30 18:04:59</td>\n",
       "    </tr>\n",
       "    <tr>\n",
       "      <th>914099295963553792</th>\n",
       "      <td>23584</td>\n",
       "      <td>Twitter for iPhone</td>\n",
       "      <td>The Fake News Networks are working overtime in...</td>\n",
       "      <td>2017-09-30 12:07:09</td>\n",
       "    </tr>\n",
       "    <tr>\n",
       "      <th>914096428879933440</th>\n",
       "      <td>13185</td>\n",
       "      <td>Twitter for iPhone</td>\n",
       "      <td>I will be going to Puerto Rico on Tuesday with...</td>\n",
       "      <td>2017-09-30 11:55:46</td>\n",
       "    </tr>\n",
       "    <tr>\n",
       "      <th>914094625488502784</th>\n",
       "      <td>19804</td>\n",
       "      <td>Twitter for iPhone</td>\n",
       "      <td>Fake News CNN and NBC are going out of their w...</td>\n",
       "      <td>2017-09-30 11:48:36</td>\n",
       "    </tr>\n",
       "    <tr>\n",
       "      <th>914092750924128262</th>\n",
       "      <td>10012</td>\n",
       "      <td>Twitter for iPhone</td>\n",
       "      <td>RT @FLOTUS: Thank you to all who participated ...</td>\n",
       "      <td>2017-09-30 11:41:09</td>\n",
       "    </tr>\n",
       "    <tr>\n",
       "      <th>914092638403485696</th>\n",
       "      <td>6570</td>\n",
       "      <td>Twitter for iPhone</td>\n",
       "      <td>RT @DeptofDefense: VIDEO: Elements of the #DoD...</td>\n",
       "      <td>2017-09-30 11:40:42</td>\n",
       "    </tr>\n",
       "    <tr>\n",
       "      <th>914092399378526209</th>\n",
       "      <td>6881</td>\n",
       "      <td>Twitter for iPhone</td>\n",
       "      <td>RT @usairforce: ⚡️ “#AirForce relief efforts i...</td>\n",
       "      <td>2017-09-30 11:39:45</td>\n",
       "    </tr>\n",
       "    <tr>\n",
       "      <th>914091203855048704</th>\n",
       "      <td>8107</td>\n",
       "      <td>Twitter for iPhone</td>\n",
       "      <td>RT @USCGSoutheast: .@USCG crews worked togethe...</td>\n",
       "      <td>2017-09-30 11:35:00</td>\n",
       "    </tr>\n",
       "    <tr>\n",
       "      <th>914090947180470272</th>\n",
       "      <td>13064</td>\n",
       "      <td>Twitter for iPhone</td>\n",
       "      <td>The military and first responders, despite no ...</td>\n",
       "      <td>2017-09-30 11:33:59</td>\n",
       "    </tr>\n",
       "    <tr>\n",
       "      <th>914089888596754434</th>\n",
       "      <td>14921</td>\n",
       "      <td>Twitter for iPhone</td>\n",
       "      <td>...want everything to be done for them when it...</td>\n",
       "      <td>2017-09-30 11:29:47</td>\n",
       "    </tr>\n",
       "    <tr>\n",
       "      <th>914089003745468417</th>\n",
       "      <td>14788</td>\n",
       "      <td>Twitter for iPhone</td>\n",
       "      <td>...Such poor leadership ability by the Mayor o...</td>\n",
       "      <td>2017-09-30 11:26:16</td>\n",
       "    </tr>\n",
       "    <tr>\n",
       "      <th>...</th>\n",
       "      <td>...</td>\n",
       "      <td>...</td>\n",
       "      <td>...</td>\n",
       "      <td>...</td>\n",
       "    </tr>\n",
       "    <tr>\n",
       "      <th>761936929902452740</th>\n",
       "      <td>13225</td>\n",
       "      <td>Twitter for Android</td>\n",
       "      <td>Anybody whose mind \"SHORT CIRCUITS\" is not fit...</td>\n",
       "      <td>2016-08-06 14:48:14</td>\n",
       "    </tr>\n",
       "    <tr>\n",
       "      <th>761931010548305920</th>\n",
       "      <td>13448</td>\n",
       "      <td>Twitter for Android</td>\n",
       "      <td>Crooked Hillary said loudly, and for the world...</td>\n",
       "      <td>2016-08-06 14:24:43</td>\n",
       "    </tr>\n",
       "    <tr>\n",
       "      <th>761892829434183684</th>\n",
       "      <td>9327</td>\n",
       "      <td>Twitter for Android</td>\n",
       "      <td>Hillary Clinton is being badly criticized for ...</td>\n",
       "      <td>2016-08-06 11:53:00</td>\n",
       "    </tr>\n",
       "    <tr>\n",
       "      <th>761773576101953536</th>\n",
       "      <td>10226</td>\n",
       "      <td>Twitter for iPhone</td>\n",
       "      <td>Good luck #TeamUSA\\n#OpeningCeremony #Rio2016 ...</td>\n",
       "      <td>2016-08-06 03:59:08</td>\n",
       "    </tr>\n",
       "    <tr>\n",
       "      <th>761757988516401153</th>\n",
       "      <td>8182</td>\n",
       "      <td>Twitter for iPhone</td>\n",
       "      <td>'Trump is right about violent crime: It’s on t...</td>\n",
       "      <td>2016-08-06 02:57:11</td>\n",
       "    </tr>\n",
       "    <tr>\n",
       "      <th>761754898602061824</th>\n",
       "      <td>5491</td>\n",
       "      <td>Twitter for iPhone</td>\n",
       "      <td>Thank you Green Bay, Wisconsin! Governor @Mike...</td>\n",
       "      <td>2016-08-06 02:44:55</td>\n",
       "    </tr>\n",
       "    <tr>\n",
       "      <th>761711856457125888</th>\n",
       "      <td>17667</td>\n",
       "      <td>Twitter Web Client</td>\n",
       "      <td>DON'T LET HILLARY CLINTON DO IT AGAIN!\\n#Trump...</td>\n",
       "      <td>2016-08-05 23:53:53</td>\n",
       "    </tr>\n",
       "    <tr>\n",
       "      <th>761693803120041986</th>\n",
       "      <td>5722</td>\n",
       "      <td>Twitter for iPhone</td>\n",
       "      <td>Thank you Des Moines, Iowa! Governor @Mike_Pen...</td>\n",
       "      <td>2016-08-05 22:42:08</td>\n",
       "    </tr>\n",
       "    <tr>\n",
       "      <th>761653875413618689</th>\n",
       "      <td>14379</td>\n",
       "      <td>Twitter for iPhone</td>\n",
       "      <td>#MakeAmericaSafeAgain https://t.co/5yuLKyh8Q6</td>\n",
       "      <td>2016-08-05 20:03:29</td>\n",
       "    </tr>\n",
       "    <tr>\n",
       "      <th>761645207909568512</th>\n",
       "      <td>8679</td>\n",
       "      <td>Twitter for iPhone</td>\n",
       "      <td>RT @DRUDGE_REPORT: FORMER HOSTAGE SAYS PLANE W...</td>\n",
       "      <td>2016-08-05 19:29:02</td>\n",
       "    </tr>\n",
       "    <tr>\n",
       "      <th>761645187986620416</th>\n",
       "      <td>4907</td>\n",
       "      <td>Twitter for iPhone</td>\n",
       "      <td>RT @DRUDGE_REPORT: 'Win-lose deal that benefit...</td>\n",
       "      <td>2016-08-05 19:28:58</td>\n",
       "    </tr>\n",
       "    <tr>\n",
       "      <th>761549461893984256</th>\n",
       "      <td>8898</td>\n",
       "      <td>Twitter for iPhone</td>\n",
       "      <td>Hillary Clinton has bad judgment and is unfit ...</td>\n",
       "      <td>2016-08-05 13:08:35</td>\n",
       "    </tr>\n",
       "    <tr>\n",
       "      <th>761511930238496772</th>\n",
       "      <td>8488</td>\n",
       "      <td>Twitter for Android</td>\n",
       "      <td>The plane I saw on television was the hostage ...</td>\n",
       "      <td>2016-08-05 10:39:27</td>\n",
       "    </tr>\n",
       "    <tr>\n",
       "      <th>761386080272875520</th>\n",
       "      <td>12498</td>\n",
       "      <td>Twitter for iPhone</td>\n",
       "      <td>President Obama refuses to answer question abo...</td>\n",
       "      <td>2016-08-05 02:19:22</td>\n",
       "    </tr>\n",
       "    <tr>\n",
       "      <th>761386025323225088</th>\n",
       "      <td>12857</td>\n",
       "      <td>Twitter for iPhone</td>\n",
       "      <td>Obama's disastrous judgment gave us ISIS, rise...</td>\n",
       "      <td>2016-08-05 02:19:08</td>\n",
       "    </tr>\n",
       "    <tr>\n",
       "      <th>761385812390977536</th>\n",
       "      <td>11616</td>\n",
       "      <td>Twitter for iPhone</td>\n",
       "      <td>President Obama should ask the DNC about how t...</td>\n",
       "      <td>2016-08-05 02:18:18</td>\n",
       "    </tr>\n",
       "    <tr>\n",
       "      <th>761385317169496064</th>\n",
       "      <td>4180</td>\n",
       "      <td>Twitter for iPhone</td>\n",
       "      <td>See you tomorrow w/ Gov. @Mike_Pence, Iowa &amp;am...</td>\n",
       "      <td>2016-08-05 02:16:20</td>\n",
       "    </tr>\n",
       "    <tr>\n",
       "      <th>761331433810132992</th>\n",
       "      <td>5356</td>\n",
       "      <td>Twitter for iPhone</td>\n",
       "      <td>Thank you Portland, Maine! \\n#MakeAmericaGreat...</td>\n",
       "      <td>2016-08-04 22:42:13</td>\n",
       "    </tr>\n",
       "    <tr>\n",
       "      <th>761281473492189184</th>\n",
       "      <td>10330</td>\n",
       "      <td>Twitter for iPhone</td>\n",
       "      <td>Happy 226th Birthday to the United States Coas...</td>\n",
       "      <td>2016-08-04 19:23:41</td>\n",
       "    </tr>\n",
       "    <tr>\n",
       "      <th>761279538106097664</th>\n",
       "      <td>5802</td>\n",
       "      <td>Twitter for iPhone</td>\n",
       "      <td>Great meeting all of you. This group knocked o...</td>\n",
       "      <td>2016-08-04 19:16:00</td>\n",
       "    </tr>\n",
       "    <tr>\n",
       "      <th>761219396635361280</th>\n",
       "      <td>5633</td>\n",
       "      <td>Twitter for iPhone</td>\n",
       "      <td>Looking forward to IA &amp;amp; WI with Gov. Pence...</td>\n",
       "      <td>2016-08-04 15:17:01</td>\n",
       "    </tr>\n",
       "    <tr>\n",
       "      <th>761025834350018561</th>\n",
       "      <td>7272</td>\n",
       "      <td>Twitter for iPhone</td>\n",
       "      <td>Thank you Jacksonville, Florida!\\n#MakeAmerica...</td>\n",
       "      <td>2016-08-04 02:27:52</td>\n",
       "    </tr>\n",
       "    <tr>\n",
       "      <th>760976212068106240</th>\n",
       "      <td>5609</td>\n",
       "      <td>Twitter for iPhone</td>\n",
       "      <td>Thank you for your support of my candidacy! #M...</td>\n",
       "      <td>2016-08-03 23:10:41</td>\n",
       "    </tr>\n",
       "    <tr>\n",
       "      <th>760960985524043777</th>\n",
       "      <td>10047</td>\n",
       "      <td>Twitter for iPhone</td>\n",
       "      <td>Thank you to the amazing law enforcement offic...</td>\n",
       "      <td>2016-08-03 22:10:11</td>\n",
       "    </tr>\n",
       "    <tr>\n",
       "      <th>760957697579708416</th>\n",
       "      <td>7314</td>\n",
       "      <td>Twitter for iPhone</td>\n",
       "      <td>THANK YOU Daytona Beach, Florida!\\n#MakeAmeric...</td>\n",
       "      <td>2016-08-03 21:57:07</td>\n",
       "    </tr>\n",
       "    <tr>\n",
       "      <th>760888078605090821</th>\n",
       "      <td>3256</td>\n",
       "      <td>Twitter for iPhone</td>\n",
       "      <td>RT @mike_pence: Join me in Colorado, today! Lo...</td>\n",
       "      <td>2016-08-03 17:20:29</td>\n",
       "    </tr>\n",
       "    <tr>\n",
       "      <th>760783130978648064</th>\n",
       "      <td>19453</td>\n",
       "      <td>Twitter for Android</td>\n",
       "      <td>Our incompetent Secretary of State, Hillary Cl...</td>\n",
       "      <td>2016-08-03 10:23:27</td>\n",
       "    </tr>\n",
       "    <tr>\n",
       "      <th>760765818917515264</th>\n",
       "      <td>13126</td>\n",
       "      <td>Twitter for Android</td>\n",
       "      <td>There is great unity in my campaign, perhaps g...</td>\n",
       "      <td>2016-08-03 09:14:40</td>\n",
       "    </tr>\n",
       "    <tr>\n",
       "      <th>760669268539301889</th>\n",
       "      <td>5385</td>\n",
       "      <td>Twitter for Android</td>\n",
       "      <td>Great day in Virginia. Crowd was fantastic!</td>\n",
       "      <td>2016-08-03 02:51:00</td>\n",
       "    </tr>\n",
       "    <tr>\n",
       "      <th>760594155835887616</th>\n",
       "      <td>5973</td>\n",
       "      <td>Twitter for iPhone</td>\n",
       "      <td>My daughter @IvankaTrump will be on @Greta ton...</td>\n",
       "      <td>2016-08-02 21:52:32</td>\n",
       "    </tr>\n",
       "  </tbody>\n",
       "</table>\n",
       "<p>3211 rows × 4 columns</p>\n",
       "</div>"
      ],
      "text/plain": [
       "                    retweet_count               source  \\\n",
       "914497947517227008           8039   Twitter for iPhone   \n",
       "914497877543735296          14019   Twitter for iPhone   \n",
       "914467502251528192           8328   Twitter for iPhone   \n",
       "914466534365569025           9274   Twitter for iPhone   \n",
       "914465475777695744          10886   Twitter for iPhone   \n",
       "914461244702232577           8675   Twitter for iPhone   \n",
       "914310901855129601          23128   Twitter for iPhone   \n",
       "914269704440737792           6237   Twitter for iPhone   \n",
       "914260261304860672          24722         Media Studio   \n",
       "914255264282480640          24527   Twitter for iPhone   \n",
       "914252271982178306          11206   Twitter for iPhone   \n",
       "914227642131509248          15630   Twitter for iPhone   \n",
       "914217658517737472          12561   Twitter for iPhone   \n",
       "914217477495717889           6914   Twitter for iPhone   \n",
       "914217117695795201           8726   Twitter for iPhone   \n",
       "914216744385904640          14084   Twitter for iPhone   \n",
       "914214237584674816          11329   Twitter for iPhone   \n",
       "914210813237489666          11392   Twitter for iPhone   \n",
       "914208123564494850          12692   Twitter for iPhone   \n",
       "914189344533024768          15650   Twitter for iPhone   \n",
       "914099295963553792          23584   Twitter for iPhone   \n",
       "914096428879933440          13185   Twitter for iPhone   \n",
       "914094625488502784          19804   Twitter for iPhone   \n",
       "914092750924128262          10012   Twitter for iPhone   \n",
       "914092638403485696           6570   Twitter for iPhone   \n",
       "914092399378526209           6881   Twitter for iPhone   \n",
       "914091203855048704           8107   Twitter for iPhone   \n",
       "914090947180470272          13064   Twitter for iPhone   \n",
       "914089888596754434          14921   Twitter for iPhone   \n",
       "914089003745468417          14788   Twitter for iPhone   \n",
       "...                           ...                  ...   \n",
       "761936929902452740          13225  Twitter for Android   \n",
       "761931010548305920          13448  Twitter for Android   \n",
       "761892829434183684           9327  Twitter for Android   \n",
       "761773576101953536          10226   Twitter for iPhone   \n",
       "761757988516401153           8182   Twitter for iPhone   \n",
       "761754898602061824           5491   Twitter for iPhone   \n",
       "761711856457125888          17667   Twitter Web Client   \n",
       "761693803120041986           5722   Twitter for iPhone   \n",
       "761653875413618689          14379   Twitter for iPhone   \n",
       "761645207909568512           8679   Twitter for iPhone   \n",
       "761645187986620416           4907   Twitter for iPhone   \n",
       "761549461893984256           8898   Twitter for iPhone   \n",
       "761511930238496772           8488  Twitter for Android   \n",
       "761386080272875520          12498   Twitter for iPhone   \n",
       "761386025323225088          12857   Twitter for iPhone   \n",
       "761385812390977536          11616   Twitter for iPhone   \n",
       "761385317169496064           4180   Twitter for iPhone   \n",
       "761331433810132992           5356   Twitter for iPhone   \n",
       "761281473492189184          10330   Twitter for iPhone   \n",
       "761279538106097664           5802   Twitter for iPhone   \n",
       "761219396635361280           5633   Twitter for iPhone   \n",
       "761025834350018561           7272   Twitter for iPhone   \n",
       "760976212068106240           5609   Twitter for iPhone   \n",
       "760960985524043777          10047   Twitter for iPhone   \n",
       "760957697579708416           7314   Twitter for iPhone   \n",
       "760888078605090821           3256   Twitter for iPhone   \n",
       "760783130978648064          19453  Twitter for Android   \n",
       "760765818917515264          13126  Twitter for Android   \n",
       "760669268539301889           5385  Twitter for Android   \n",
       "760594155835887616           5973   Twitter for iPhone   \n",
       "\n",
       "                                                                 text  \\\n",
       "914497947517227008  ...Save your energy Rex, we'll do what has to ...   \n",
       "914497877543735296  I told Rex Tillerson, our wonderful Secretary ...   \n",
       "914467502251528192  ...for safety. Thank you to the Governor of P....   \n",
       "914466534365569025  ...people are now starting to recognize the am...   \n",
       "914465475777695744  We have done a great job with the almost impos...   \n",
       "914461244702232577  RT @SLandinSoCal: When you kneel for our #Nati...   \n",
       "914310901855129601  19,000 RESPECTING our National Anthem! #StandF...   \n",
       "914269704440737792  In analyzing the Alabama Primary race,FAKE NEW...   \n",
       "914260261304860672  Because of #FakeNews my people are not getting...   \n",
       "914255264282480640  Very important that NFL players STAND tomorrow...   \n",
       "914252271982178306  I will be in PR on Tues. to further ensure we ...   \n",
       "914227642131509248  Results of recovery efforts will speak much lo...   \n",
       "914217658517737472  We must all be united in offering assistance t...   \n",
       "914217477495717889  @ricardorossello ......#FakeNews critics are w...   \n",
       "914217117695795201  My Administration, Governor @RicardoRossello, ...   \n",
       "914216744385904640  To the people of Puerto Rico:\\nDo not believe ...   \n",
       "914214237584674816  Congresswoman Jennifer Gonzalez-Colon of Puert...   \n",
       "914210813237489666  Just spoke to Governor Kenneth Mapp of the U.S...   \n",
       "914208123564494850  The Governor of Puerto Rico, Ricardo Rossello,...   \n",
       "914189344533024768  Despite the Fake News Media in conjunction wit...   \n",
       "914099295963553792  The Fake News Networks are working overtime in...   \n",
       "914096428879933440  I will be going to Puerto Rico on Tuesday with...   \n",
       "914094625488502784  Fake News CNN and NBC are going out of their w...   \n",
       "914092750924128262  RT @FLOTUS: Thank you to all who participated ...   \n",
       "914092638403485696  RT @DeptofDefense: VIDEO: Elements of the #DoD...   \n",
       "914092399378526209  RT @usairforce: ⚡️ “#AirForce relief efforts i...   \n",
       "914091203855048704  RT @USCGSoutheast: .@USCG crews worked togethe...   \n",
       "914090947180470272  The military and first responders, despite no ...   \n",
       "914089888596754434  ...want everything to be done for them when it...   \n",
       "914089003745468417  ...Such poor leadership ability by the Mayor o...   \n",
       "...                                                               ...   \n",
       "761936929902452740  Anybody whose mind \"SHORT CIRCUITS\" is not fit...   \n",
       "761931010548305920  Crooked Hillary said loudly, and for the world...   \n",
       "761892829434183684  Hillary Clinton is being badly criticized for ...   \n",
       "761773576101953536  Good luck #TeamUSA\\n#OpeningCeremony #Rio2016 ...   \n",
       "761757988516401153  'Trump is right about violent crime: It’s on t...   \n",
       "761754898602061824  Thank you Green Bay, Wisconsin! Governor @Mike...   \n",
       "761711856457125888  DON'T LET HILLARY CLINTON DO IT AGAIN!\\n#Trump...   \n",
       "761693803120041986  Thank you Des Moines, Iowa! Governor @Mike_Pen...   \n",
       "761653875413618689      #MakeAmericaSafeAgain https://t.co/5yuLKyh8Q6   \n",
       "761645207909568512  RT @DRUDGE_REPORT: FORMER HOSTAGE SAYS PLANE W...   \n",
       "761645187986620416  RT @DRUDGE_REPORT: 'Win-lose deal that benefit...   \n",
       "761549461893984256  Hillary Clinton has bad judgment and is unfit ...   \n",
       "761511930238496772  The plane I saw on television was the hostage ...   \n",
       "761386080272875520  President Obama refuses to answer question abo...   \n",
       "761386025323225088  Obama's disastrous judgment gave us ISIS, rise...   \n",
       "761385812390977536  President Obama should ask the DNC about how t...   \n",
       "761385317169496064  See you tomorrow w/ Gov. @Mike_Pence, Iowa &am...   \n",
       "761331433810132992  Thank you Portland, Maine! \\n#MakeAmericaGreat...   \n",
       "761281473492189184  Happy 226th Birthday to the United States Coas...   \n",
       "761279538106097664  Great meeting all of you. This group knocked o...   \n",
       "761219396635361280  Looking forward to IA &amp; WI with Gov. Pence...   \n",
       "761025834350018561  Thank you Jacksonville, Florida!\\n#MakeAmerica...   \n",
       "760976212068106240  Thank you for your support of my candidacy! #M...   \n",
       "760960985524043777  Thank you to the amazing law enforcement offic...   \n",
       "760957697579708416  THANK YOU Daytona Beach, Florida!\\n#MakeAmeric...   \n",
       "760888078605090821  RT @mike_pence: Join me in Colorado, today! Lo...   \n",
       "760783130978648064  Our incompetent Secretary of State, Hillary Cl...   \n",
       "760765818917515264  There is great unity in my campaign, perhaps g...   \n",
       "760669268539301889        Great day in Virginia. Crowd was fantastic!   \n",
       "760594155835887616  My daughter @IvankaTrump will be on @Greta ton...   \n",
       "\n",
       "                                  time  \n",
       "914497947517227008 2017-10-01 14:31:15  \n",
       "914497877543735296 2017-10-01 14:30:59  \n",
       "914467502251528192 2017-10-01 12:30:17  \n",
       "914466534365569025 2017-10-01 12:26:26  \n",
       "914465475777695744 2017-10-01 12:22:14  \n",
       "914461244702232577 2017-10-01 12:05:25  \n",
       "914310901855129601 2017-10-01 02:08:00  \n",
       "914269704440737792 2017-09-30 23:24:18  \n",
       "914260261304860672 2017-09-30 22:46:47  \n",
       "914255264282480640 2017-09-30 22:26:55  \n",
       "914252271982178306 2017-09-30 22:15:02  \n",
       "914227642131509248 2017-09-30 20:37:10  \n",
       "914217658517737472 2017-09-30 19:57:29  \n",
       "914217477495717889 2017-09-30 19:56:46  \n",
       "914217117695795201 2017-09-30 19:55:20  \n",
       "914216744385904640 2017-09-30 19:53:51  \n",
       "914214237584674816 2017-09-30 19:43:54  \n",
       "914210813237489666 2017-09-30 19:30:17  \n",
       "914208123564494850 2017-09-30 19:19:36  \n",
       "914189344533024768 2017-09-30 18:04:59  \n",
       "914099295963553792 2017-09-30 12:07:09  \n",
       "914096428879933440 2017-09-30 11:55:46  \n",
       "914094625488502784 2017-09-30 11:48:36  \n",
       "914092750924128262 2017-09-30 11:41:09  \n",
       "914092638403485696 2017-09-30 11:40:42  \n",
       "914092399378526209 2017-09-30 11:39:45  \n",
       "914091203855048704 2017-09-30 11:35:00  \n",
       "914090947180470272 2017-09-30 11:33:59  \n",
       "914089888596754434 2017-09-30 11:29:47  \n",
       "914089003745468417 2017-09-30 11:26:16  \n",
       "...                                ...  \n",
       "761936929902452740 2016-08-06 14:48:14  \n",
       "761931010548305920 2016-08-06 14:24:43  \n",
       "761892829434183684 2016-08-06 11:53:00  \n",
       "761773576101953536 2016-08-06 03:59:08  \n",
       "761757988516401153 2016-08-06 02:57:11  \n",
       "761754898602061824 2016-08-06 02:44:55  \n",
       "761711856457125888 2016-08-05 23:53:53  \n",
       "761693803120041986 2016-08-05 22:42:08  \n",
       "761653875413618689 2016-08-05 20:03:29  \n",
       "761645207909568512 2016-08-05 19:29:02  \n",
       "761645187986620416 2016-08-05 19:28:58  \n",
       "761549461893984256 2016-08-05 13:08:35  \n",
       "761511930238496772 2016-08-05 10:39:27  \n",
       "761386080272875520 2016-08-05 02:19:22  \n",
       "761386025323225088 2016-08-05 02:19:08  \n",
       "761385812390977536 2016-08-05 02:18:18  \n",
       "761385317169496064 2016-08-05 02:16:20  \n",
       "761331433810132992 2016-08-04 22:42:13  \n",
       "761281473492189184 2016-08-04 19:23:41  \n",
       "761279538106097664 2016-08-04 19:16:00  \n",
       "761219396635361280 2016-08-04 15:17:01  \n",
       "761025834350018561 2016-08-04 02:27:52  \n",
       "760976212068106240 2016-08-03 23:10:41  \n",
       "760960985524043777 2016-08-03 22:10:11  \n",
       "760957697579708416 2016-08-03 21:57:07  \n",
       "760888078605090821 2016-08-03 17:20:29  \n",
       "760783130978648064 2016-08-03 10:23:27  \n",
       "760765818917515264 2016-08-03 09:14:40  \n",
       "760669268539301889 2016-08-03 02:51:00  \n",
       "760594155835887616 2016-08-02 21:52:32  \n",
       "\n",
       "[3211 rows x 4 columns]"
      ]
     },
     "execution_count": 21,
     "metadata": {},
     "output_type": "execute_result"
    }
   ],
   "source": [
    "ids = []\n",
    "times = []\n",
    "sources = []\n",
    "texts = []\n",
    "retweets = []\n",
    "for tweet in trump_tweets:\n",
    "    ids.append(tweet.id_str)\n",
    "    times.append(tweet.created_at)\n",
    "    sources.append(tweet.source)\n",
    "    texts.append(tweet.text)\n",
    "    retweets.append(tweet.retweet_count)\n",
    "trump = pd.DataFrame(data={'time':times, 'source':sources, 'text':texts, 'retweet_count':retweets}, index=ids)\n",
    "trump"
   ]
  },
  {
   "cell_type": "code",
   "execution_count": 22,
   "metadata": {
    "tags": [
     "test",
     "q03"
    ]
   },
   "outputs": [
    {
     "name": "stdout",
     "output_type": "stream",
     "text": [
      "~~~~~~~~~~~~~~~~~~~~~~~~~~~~~~~~~~~~~~~~~~~~~~~~~~~~~~~~~~~~~~~~~~~~~\n",
      "Running tests\n",
      "\n",
      "---------------------------------------------------------------------\n",
      "Test summary\n",
      "    Passed: 1\n",
      "    Failed: 0\n",
      "[ooooooooook] 100.0% passed\n",
      "\n"
     ]
    },
    {
     "data": {
      "application/javascript": [
       "IPython.notebook.save_checkpoint();"
      ],
      "text/plain": [
       "<IPython.core.display.Javascript object>"
      ]
     },
     "metadata": {},
     "output_type": "display_data"
    },
    {
     "data": {
      "application/javascript": [
       "IPython.notebook.save_notebook();"
      ],
      "text/plain": [
       "<IPython.core.display.Javascript object>"
      ]
     },
     "metadata": {},
     "output_type": "display_data"
    },
    {
     "name": "stdout",
     "output_type": "stream",
     "text": [
      "Saving notebook... Saved 'proj1.ipynb'.\n",
      "Backup... 100% complete\n",
      "Backup successful for user: asaha@berkeley.edu\n",
      "URL: https://okpy.org/cal/ds100/fa17/proj1_part1/backups/J6pWvK\n",
      "NOTE: this is only a backup. To submit your assignment, use:\n",
      "\tpython3 ok --submit\n",
      "\n"
     ]
    }
   ],
   "source": [
    "_ = ok.grade('q03')\n",
    "_ = ok.backup()"
   ]
  },
  {
   "cell_type": "markdown",
   "metadata": {},
   "source": [
    "Here are two important dates that we'll use in our analysis. `ELEC_DATE` is the date when Trump won the 2016 Presidential election, and `INAUG_DATE` is the date that Trump was sworn into office."
   ]
  },
  {
   "cell_type": "code",
   "execution_count": 23,
   "metadata": {
    "collapsed": true
   },
   "outputs": [],
   "source": [
    "from datetime import datetime\n",
    "\n",
    "ELEC_DATE = datetime(2016, 11, 8)\n",
    "INAUG_DATE = datetime(2017, 1, 20)"
   ]
  },
  {
   "cell_type": "markdown",
   "metadata": {},
   "source": [
    "Here are the first and last rows of your tweet data.\n",
    "\n",
    "You'll notice that the data contains tweets from before the election."
   ]
  },
  {
   "cell_type": "code",
   "execution_count": 24,
   "metadata": {},
   "outputs": [
    {
     "data": {
      "text/html": [
       "<div>\n",
       "<style>\n",
       "    .dataframe thead tr:only-child th {\n",
       "        text-align: right;\n",
       "    }\n",
       "\n",
       "    .dataframe thead th {\n",
       "        text-align: left;\n",
       "    }\n",
       "\n",
       "    .dataframe tbody tr th {\n",
       "        vertical-align: top;\n",
       "    }\n",
       "</style>\n",
       "<table border=\"1\" class=\"dataframe\">\n",
       "  <thead>\n",
       "    <tr style=\"text-align: right;\">\n",
       "      <th></th>\n",
       "      <th>retweet_count</th>\n",
       "      <th>source</th>\n",
       "      <th>text</th>\n",
       "      <th>time</th>\n",
       "    </tr>\n",
       "  </thead>\n",
       "  <tbody>\n",
       "    <tr>\n",
       "      <th>914497947517227008</th>\n",
       "      <td>8039</td>\n",
       "      <td>Twitter for iPhone</td>\n",
       "      <td>...Save your energy Rex, we'll do what has to ...</td>\n",
       "      <td>2017-10-01 14:31:15</td>\n",
       "    </tr>\n",
       "    <tr>\n",
       "      <th>760594155835887616</th>\n",
       "      <td>5973</td>\n",
       "      <td>Twitter for iPhone</td>\n",
       "      <td>My daughter @IvankaTrump will be on @Greta ton...</td>\n",
       "      <td>2016-08-02 21:52:32</td>\n",
       "    </tr>\n",
       "  </tbody>\n",
       "</table>\n",
       "</div>"
      ],
      "text/plain": [
       "                    retweet_count              source  \\\n",
       "914497947517227008           8039  Twitter for iPhone   \n",
       "760594155835887616           5973  Twitter for iPhone   \n",
       "\n",
       "                                                                 text  \\\n",
       "914497947517227008  ...Save your energy Rex, we'll do what has to ...   \n",
       "760594155835887616  My daughter @IvankaTrump will be on @Greta ton...   \n",
       "\n",
       "                                  time  \n",
       "914497947517227008 2017-10-01 14:31:15  \n",
       "760594155835887616 2016-08-02 21:52:32  "
      ]
     },
     "execution_count": 24,
     "metadata": {},
     "output_type": "execute_result"
    }
   ],
   "source": [
    "trump.iloc[[0, -1], :]"
   ]
  },
  {
   "cell_type": "markdown",
   "metadata": {},
   "source": [
    "## Question 4: Tweet Source Analysis\n",
    "\n",
    "In the following questions, we are going to find out the charateristics of Trump tweets and the devices used for the tweets.\n",
    "\n",
    "---\n",
    "<br/><br/>\n",
    "\n",
    "## Question 4a\n",
    "\n",
    "Find out the number of unique sources of the Trump tweets. Save the result in `num_sources`. \n",
    "\n",
    "Then, make a bar plot of the counts of different sources."
   ]
  },
  {
   "cell_type": "code",
   "execution_count": 25,
   "metadata": {
    "tags": [
     "student"
    ]
   },
   "outputs": [
    {
     "data": {
      "text/plain": [
       "<matplotlib.axes._subplots.AxesSubplot at 0x118de7550>"
      ]
     },
     "execution_count": 25,
     "metadata": {},
     "output_type": "execute_result"
    },
    {
     "data": {
      "image/png": "[encoded data removed]",
      "text/plain": [
       "<matplotlib.figure.Figure at 0x118d7b4a8>"
      ]
     },
     "metadata": {},
     "output_type": "display_data"
    }
   ],
   "source": [
    "num_sources = len(trump['source'].value_counts())\n",
    "\n",
    "# make a bar plot here\n",
    "sns.barplot(x=trump['source'].value_counts().index, y=trump['source'].value_counts())"
   ]
  },
  {
   "cell_type": "code",
   "execution_count": 26,
   "metadata": {
    "tags": [
     "test",
     "q04a"
    ]
   },
   "outputs": [
    {
     "name": "stdout",
     "output_type": "stream",
     "text": [
      "~~~~~~~~~~~~~~~~~~~~~~~~~~~~~~~~~~~~~~~~~~~~~~~~~~~~~~~~~~~~~~~~~~~~~\n",
      "Running tests\n",
      "\n",
      "---------------------------------------------------------------------\n",
      "Test summary\n",
      "    Passed: 1\n",
      "    Failed: 0\n",
      "[ooooooooook] 100.0% passed\n",
      "\n"
     ]
    },
    {
     "data": {
      "application/javascript": [
       "IPython.notebook.save_checkpoint();"
      ],
      "text/plain": [
       "<IPython.core.display.Javascript object>"
      ]
     },
     "metadata": {},
     "output_type": "display_data"
    },
    {
     "data": {
      "application/javascript": [
       "IPython.notebook.save_notebook();"
      ],
      "text/plain": [
       "<IPython.core.display.Javascript object>"
      ]
     },
     "metadata": {},
     "output_type": "display_data"
    },
    {
     "name": "stdout",
     "output_type": "stream",
     "text": [
      "Saving notebook... Saved 'proj1.ipynb'.\n",
      "Backup... 100% complete\n",
      "Backup successful for user: asaha@berkeley.edu\n",
      "URL: https://okpy.org/cal/ds100/fa17/proj1_part1/backups/Krq9wG\n",
      "NOTE: this is only a backup. To submit your assignment, use:\n",
      "\tpython3 ok --submit\n",
      "\n"
     ]
    }
   ],
   "source": [
    "_ = ok.grade('q04a')\n",
    "_ = ok.backup()"
   ]
  },
  {
   "cell_type": "markdown",
   "metadata": {},
   "source": [
    "As we can see from the plot above, Trump tweets are mostly from iPhone or Android. Is there a difference between his Tweet behavior between the two devices?\n",
    "\n",
    "We will attempt to answer this question in our subsequent analysis.\n",
    "\n",
    "First, we'll take a look at whether Trump's tweets from an Android come at different times than his tweets from an iPhone. Note that Twitter gives us his tweets in the [UTC timezone](https://www.wikiwand.com/en/List_of_UTC_time_offsets):"
   ]
  },
  {
   "cell_type": "code",
   "execution_count": 27,
   "metadata": {},
   "outputs": [
    {
     "name": "stdout",
     "output_type": "stream",
     "text": [
      "Sun Oct 01 14:31:15 +0000 2017\n"
     ]
    }
   ],
   "source": [
    "print(trump_tweets[0]._json['created_at'])"
   ]
  },
  {
   "cell_type": "markdown",
   "metadata": {},
   "source": [
    "We'll convert the tweet times to US Eastern Time, the timezone of New York and Washington D.C., since those are the places we would expect the most tweet activity from Trump."
   ]
  },
  {
   "cell_type": "code",
   "execution_count": 28,
   "metadata": {},
   "outputs": [
    {
     "data": {
      "text/html": [
       "<div>\n",
       "<style>\n",
       "    .dataframe thead tr:only-child th {\n",
       "        text-align: right;\n",
       "    }\n",
       "\n",
       "    .dataframe thead th {\n",
       "        text-align: left;\n",
       "    }\n",
       "\n",
       "    .dataframe tbody tr th {\n",
       "        vertical-align: top;\n",
       "    }\n",
       "</style>\n",
       "<table border=\"1\" class=\"dataframe\">\n",
       "  <thead>\n",
       "    <tr style=\"text-align: right;\">\n",
       "      <th></th>\n",
       "      <th>retweet_count</th>\n",
       "      <th>source</th>\n",
       "      <th>text</th>\n",
       "      <th>time</th>\n",
       "      <th>est_time</th>\n",
       "    </tr>\n",
       "  </thead>\n",
       "  <tbody>\n",
       "    <tr>\n",
       "      <th>914497947517227008</th>\n",
       "      <td>8039</td>\n",
       "      <td>Twitter for iPhone</td>\n",
       "      <td>...Save your energy Rex, we'll do what has to ...</td>\n",
       "      <td>2017-10-01 14:31:15</td>\n",
       "      <td>2017-10-01 10:31:15-04:00</td>\n",
       "    </tr>\n",
       "    <tr>\n",
       "      <th>914497877543735296</th>\n",
       "      <td>14019</td>\n",
       "      <td>Twitter for iPhone</td>\n",
       "      <td>I told Rex Tillerson, our wonderful Secretary ...</td>\n",
       "      <td>2017-10-01 14:30:59</td>\n",
       "      <td>2017-10-01 10:30:59-04:00</td>\n",
       "    </tr>\n",
       "    <tr>\n",
       "      <th>914467502251528192</th>\n",
       "      <td>8328</td>\n",
       "      <td>Twitter for iPhone</td>\n",
       "      <td>...for safety. Thank you to the Governor of P....</td>\n",
       "      <td>2017-10-01 12:30:17</td>\n",
       "      <td>2017-10-01 08:30:17-04:00</td>\n",
       "    </tr>\n",
       "    <tr>\n",
       "      <th>914466534365569025</th>\n",
       "      <td>9274</td>\n",
       "      <td>Twitter for iPhone</td>\n",
       "      <td>...people are now starting to recognize the am...</td>\n",
       "      <td>2017-10-01 12:26:26</td>\n",
       "      <td>2017-10-01 08:26:26-04:00</td>\n",
       "    </tr>\n",
       "    <tr>\n",
       "      <th>914465475777695744</th>\n",
       "      <td>10886</td>\n",
       "      <td>Twitter for iPhone</td>\n",
       "      <td>We have done a great job with the almost impos...</td>\n",
       "      <td>2017-10-01 12:22:14</td>\n",
       "      <td>2017-10-01 08:22:14-04:00</td>\n",
       "    </tr>\n",
       "  </tbody>\n",
       "</table>\n",
       "</div>"
      ],
      "text/plain": [
       "                    retweet_count              source  \\\n",
       "914497947517227008           8039  Twitter for iPhone   \n",
       "914497877543735296          14019  Twitter for iPhone   \n",
       "914467502251528192           8328  Twitter for iPhone   \n",
       "914466534365569025           9274  Twitter for iPhone   \n",
       "914465475777695744          10886  Twitter for iPhone   \n",
       "\n",
       "                                                                 text  \\\n",
       "914497947517227008  ...Save your energy Rex, we'll do what has to ...   \n",
       "914497877543735296  I told Rex Tillerson, our wonderful Secretary ...   \n",
       "914467502251528192  ...for safety. Thank you to the Governor of P....   \n",
       "914466534365569025  ...people are now starting to recognize the am...   \n",
       "914465475777695744  We have done a great job with the almost impos...   \n",
       "\n",
       "                                  time                  est_time  \n",
       "914497947517227008 2017-10-01 14:31:15 2017-10-01 10:31:15-04:00  \n",
       "914497877543735296 2017-10-01 14:30:59 2017-10-01 10:30:59-04:00  \n",
       "914467502251528192 2017-10-01 12:30:17 2017-10-01 08:30:17-04:00  \n",
       "914466534365569025 2017-10-01 12:26:26 2017-10-01 08:26:26-04:00  \n",
       "914465475777695744 2017-10-01 12:22:14 2017-10-01 08:22:14-04:00  "
      ]
     },
     "execution_count": 28,
     "metadata": {},
     "output_type": "execute_result"
    }
   ],
   "source": [
    "trump['est_time'] = pd.Index(trump['time']).tz_localize(\"UTC\").tz_convert(\"US/Eastern\")\n",
    "trump.head()"
   ]
  },
  {
   "cell_type": "markdown",
   "metadata": {},
   "source": [
    "---\n",
    "<br/><br/>\n",
    "\n",
    "## Question 4b\n",
    "\n",
    "Use this data to make a line plot with two curves:\n",
    "\n",
    "1. The number of iPhone tweets vs. hour of the day, normalized over the hours of the day. For example, if there were 10 tweets at 1pm and 20 tweets at 2pm, the line plot should be 0, then 0.33 at 1pm, 0.66 at 2pm, then back to 0.\n",
    "2. The same curve for Android tweets.\n",
    "\n",
    "Put the two curves in the same plot. You should get a plot that looks like:\n",
    "\n",
    "![](device_hour.png)\n",
    "\n",
    "Hint: use `value_counts` with `normalization`"
   ]
  },
  {
   "cell_type": "code",
   "execution_count": 29,
   "metadata": {
    "tags": [
     "student",
     "written"
    ]
   },
   "outputs": [
    {
     "name": "stderr",
     "output_type": "stream",
     "text": [
      "/Users/anish/anaconda3/envs/ds100/lib/python3.6/site-packages/ipykernel_launcher.py:4: SettingWithCopyWarning: \n",
      "A value is trying to be set on a copy of a slice from a DataFrame.\n",
      "Try using .loc[row_indexer,col_indexer] = value instead\n",
      "\n",
      "See the caveats in the documentation: http://pandas.pydata.org/pandas-docs/stable/indexing.html#indexing-view-versus-copy\n",
      "  after removing the cwd from sys.path.\n",
      "/Users/anish/anaconda3/envs/ds100/lib/python3.6/site-packages/ipykernel_launcher.py:5: SettingWithCopyWarning: \n",
      "A value is trying to be set on a copy of a slice from a DataFrame.\n",
      "Try using .loc[row_indexer,col_indexer] = value instead\n",
      "\n",
      "See the caveats in the documentation: http://pandas.pydata.org/pandas-docs/stable/indexing.html#indexing-view-versus-copy\n",
      "  \"\"\"\n"
     ]
    },
    {
     "data": {
      "text/plain": [
       "<matplotlib.text.Text at 0x11adb5128>"
      ]
     },
     "execution_count": 29,
     "metadata": {},
     "output_type": "execute_result"
    },
    {
     "data": {
      "image/png": "[encoded data removed]",
      "text/plain": [
       "<matplotlib.figure.Figure at 0x11af04780>"
      ]
     },
     "metadata": {},
     "output_type": "display_data"
    }
   ],
   "source": [
    "### make your plot here\n",
    "iphone = trump.loc[trump['source']=='Twitter for iPhone']\n",
    "android = trump.loc[trump['source']=='Twitter for Android']\n",
    "iphone['hour'] = iphone['est_time'].dt.hour\n",
    "android['hour'] = android['est_time'].dt.hour\n",
    "values_i = iphone['hour'].value_counts('normalize').sort_index()\n",
    "values_a = android['hour'].value_counts('normalize').sort_index()\n",
    "plt.plot(values_i, label='iPhone')\n",
    "plt.plot(values_a, label='Android')\n",
    "plt.legend()\n",
    "plt.xlabel('hour')\n",
    "plt.ylabel('fraction')"
   ]
  },
  {
   "cell_type": "markdown",
   "metadata": {},
   "source": [
    "--- \n",
    "<br></br>\n",
    "\n",
    "## Question 4c\n",
    "What can you find out in the plot?"
   ]
  },
  {
   "cell_type": "code",
   "execution_count": 30,
   "metadata": {
    "tags": [
     "student",
     "written"
    ]
   },
   "outputs": [
    {
     "data": {
      "text/markdown": [
       "\n",
       "\n",
       "Trump (or his staff) posts most of his tweets around 8:00, but continues to tweet throughout the day.\n",
       "There seems to be a drastic rise bewteen 5:00 and 6:00.\n",
       "Using the relative lack of activity from 23:00 - 5:00, we can hypothesize that Trump sleeps at this time.\n",
       "Trump (or his staff) tends to post most of his tweets (for both platforms) in the morning.\n",
       "\n"
      ],
      "text/plain": [
       "<IPython.core.display.Markdown object>"
      ]
     },
     "metadata": {},
     "output_type": "display_data"
    }
   ],
   "source": [
    "q4c_answer = r\"\"\"\n",
    "\n",
    "Trump (or his staff) posts most of his tweets around 8:00, but continues to tweet throughout the day.\n",
    "There seems to be a drastic rise bewteen 5:00 and 6:00.\n",
    "Using the relative lack of activity from 23:00 - 5:00, we can hypothesize that Trump sleeps at this time.\n",
    "Trump (or his staff) tends to post most of his tweets (for both platforms) in the morning.\n",
    "\n",
    "\"\"\"\n",
    "\n",
    "display(Markdown(q4c_answer))"
   ]
  },
  {
   "cell_type": "markdown",
   "metadata": {},
   "source": [
    "--- \n",
    "<br></br>\n",
    "\n",
    "Let's now look at his tweet device usage over the entire time period we have in the dataset.\n",
    "\n",
    "Take a look at the code below and the plot it generates.\n",
    "\n",
    "You should be answer the following questions about this code. You don't have to write the answers down anywhere, but you'll need to make variations of this plot in later questions so understanding this code will help you greatly.\n",
    "\n",
    "1. What does `set_index` do here?\n",
    "1. What does `resample` do? What does the `'D'` argument do in `resample`?\n",
    "1. What does `unstack` do? What does the `level=0` argument do in unstack?\n",
    "1. Why does one call to `plot()` generate 7 lines?\n",
    "\n",
    "Feel free to copy this cell, play around with the code to see the intermediate result, then delete your cell after you're done.\n",
    "\n",
    "(**Also, all the questions in this project can be answered using this style of method chaining.** If you write `for` loops in this project, know that there is a better way.)"
   ]
  },
  {
   "cell_type": "code",
   "execution_count": 31,
   "metadata": {},
   "outputs": [
    {
     "data": {
      "text/plain": [
       "<matplotlib.text.Text at 0x11975d7f0>"
      ]
     },
     "execution_count": 31,
     "metadata": {},
     "output_type": "execute_result"
    },
    {
     "data": {
      "image/png": "[encoded data removed]",
      "text/plain": [
       "<matplotlib.figure.Figure at 0x11830c9b0>"
      ]
     },
     "metadata": {},
     "output_type": "display_data"
    }
   ],
   "source": [
    "(trump.loc[:, ['est_time', 'source']]\n",
    " .set_index('est_time')\n",
    " .groupby('source')\n",
    " .resample('D')\n",
    " .size()\n",
    " .unstack(level=0)\n",
    " .plot()\n",
    ")\n",
    "plt.xlabel('time')\n",
    "plt.ylabel('count')"
   ]
  },
  {
   "cell_type": "markdown",
   "metadata": {},
   "source": [
    "## Question 4d\n",
    "\n",
    "One problem with the plot above is that it plots too many points to see overall trends in the device usage.\n",
    "\n",
    "Recreate the plot above, grouping by each month instead of each day. You may want to use the `figsize` argument to `plot` to make your plot larger."
   ]
  },
  {
   "cell_type": "code",
   "execution_count": 32,
   "metadata": {
    "tags": [
     "student",
     "written"
    ]
   },
   "outputs": [
    {
     "data": {
      "text/plain": [
       "<matplotlib.text.Text at 0x11a4d12b0>"
      ]
     },
     "execution_count": 32,
     "metadata": {},
     "output_type": "execute_result"
    },
    {
     "data": {
      "image/png": "[encoded data removed]",
      "text/plain": [
       "<matplotlib.figure.Figure at 0x11a13e080>"
      ]
     },
     "metadata": {},
     "output_type": "display_data"
    }
   ],
   "source": [
    "(trump.loc[:, ['est_time', 'source']]\n",
    " .set_index('est_time')\n",
    " .groupby('source')\n",
    " .resample('M')\n",
    " .size()\n",
    " .unstack(level=0)\n",
    " .plot()\n",
    ")\n",
    "plt.xlabel('time')\n",
    "plt.ylabel('count')"
   ]
  },
  {
   "cell_type": "markdown",
   "metadata": {},
   "source": [
    "According to the plot, Trump's tweets come from many different sources. It turns out that many of his tweets were not from Trump himself but from his staff. [Take a look at this Verge article.](https://www.theverge.com/2017/3/29/15103504/donald-trump-iphone-using-switched-android)\n",
    "\n",
    "Does the data support the information in the article? What else do you find out about changes in Trump's tweets sources from the plot?"
   ]
  },
  {
   "cell_type": "code",
   "execution_count": 33,
   "metadata": {
    "tags": [
     "student",
     "written"
    ]
   },
   "outputs": [
    {
     "data": {
      "text/markdown": [
       "\n",
       "\n",
       "This data supports the information stated in the article. Since Trump switched to the Apple device, as stated in\n",
       "the article, it is reasonable that iPhone tweets are the most frequent throughout the year. However, numerous other\n",
       "devices are used to post tweets, and it seems unlikely that Trump would simultaneously micromanage over 7 devices \n",
       "when only one is necessary to post tweets. Android and the web client, which are both also very popular means of using\n",
       "Twitter, are most likely managed by Trump's staff. Also, from the plot, we can notice that tweets from his account\n",
       "were highest around the time of the election, and while they decreased shortly afterward, Trump's tweeting habits have\n",
       "been on the rise for the past few months. Moreover, Android usage of Twitter was very high in January and February \n",
       "(compared to Trump's iPhone usage for those times), which seems reasonable as Trump had just entered office, so his\n",
       "staff and advisors would be more likely to manage the bulk of the Twitter account (since Trump was most likely busy\n",
       "adjusting to presidency and was probably advised against his former flaming habits). Although some of these conclusions\n",
       "may not be entirely correct, it is extremely likely that multiple people manage Trump's Twitter account, from the data\n",
       "that is depicted in the graph above.\n",
       "\n"
      ],
      "text/plain": [
       "<IPython.core.display.Markdown object>"
      ]
     },
     "metadata": {},
     "output_type": "display_data"
    }
   ],
   "source": [
    "q4d_answer = r\"\"\"\n",
    "\n",
    "This data supports the information stated in the article. Since Trump switched to the Apple device, as stated in\n",
    "the article, it is reasonable that iPhone tweets are the most frequent throughout the year. However, numerous other\n",
    "devices are used to post tweets, and it seems unlikely that Trump would simultaneously micromanage over 7 devices \n",
    "when only one is necessary to post tweets. Android and the web client, which are both also very popular means of using\n",
    "Twitter, are most likely managed by Trump's staff. Also, from the plot, we can notice that tweets from his account\n",
    "were highest around the time of the election, and while they decreased shortly afterward, Trump's tweeting habits have\n",
    "been on the rise for the past few months. Moreover, Android usage of Twitter was very high in January and February \n",
    "(compared to Trump's iPhone usage for those times), which seems reasonable as Trump had just entered office, so his\n",
    "staff and advisors would be more likely to manage the bulk of the Twitter account (since Trump was most likely busy\n",
    "adjusting to presidency and was probably advised against his former flaming habits). Although some of these conclusions\n",
    "may not be entirely correct, it is extremely likely that multiple people manage Trump's Twitter account, from the data\n",
    "that is depicted in the graph above.\n",
    "\n",
    "\"\"\"\n",
    "\n",
    "display(Markdown(q4d_answer))"
   ]
  },
  {
   "cell_type": "markdown",
   "metadata": {},
   "source": [
    "What are some ways we can distinguish between tweets that came from Trump and tweets from his staff? Before, it was as easy as checked which device the tweet came from. Now, we have to rely on more sophisticated methods."
   ]
  },
  {
   "cell_type": "markdown",
   "metadata": {},
   "source": [
    "## Project Checkpoint Reached\n",
    "\n",
    "Congrats, you just reached the Project 1 checkpoint!\n",
    "\n",
    "Now, run the cell below to submit your assignment to OkPy. The autograder should email you shortly with your autograded score. The autograder will only run once every 30 minutes.\n",
    "\n",
    "Note that you'll probably get 0 points on Questions 5-8. Since you haven't gotten there yet, don't worry about missing those points.\n",
    "\n",
    "**Note that the checkpoint is graded on completeness. This means that we'll check whether you attempted to solve each question, not whether you've gotten them right. When you submit the final submission of the project, you can go back and revise your answers to Questions 1-4.**"
   ]
  },
  {
   "cell_type": "code",
   "execution_count": 34,
   "metadata": {},
   "outputs": [
    {
     "data": {
      "application/javascript": [
       "IPython.notebook.save_checkpoint();"
      ],
      "text/plain": [
       "<IPython.core.display.Javascript object>"
      ]
     },
     "metadata": {},
     "output_type": "display_data"
    },
    {
     "data": {
      "application/javascript": [
       "IPython.notebook.save_notebook();"
      ],
      "text/plain": [
       "<IPython.core.display.Javascript object>"
      ]
     },
     "metadata": {},
     "output_type": "display_data"
    },
    {
     "name": "stdout",
     "output_type": "stream",
     "text": [
      "Saving notebook... Saved 'proj1.ipynb'.\n",
      "Submit... 100% complete\n",
      "Submission successful for user: asaha@berkeley.edu\n",
      "URL: https://okpy.org/cal/ds100/fa17/proj1_part1/submissions/L9rWxD\n",
      "NOTE: this is only a backup. To submit your assignment, use:\n",
      "\tpython3 ok --submit\n",
      "\n"
     ]
    }
   ],
   "source": [
    "_ = ok.submit()"
   ]
  },
  {
   "cell_type": "markdown",
   "metadata": {},
   "source": [
    "---\n",
    "<br></br>\n",
    "\n",
    "## Question 5: Sentiment Analysis\n",
    "\n",
    "It turns out that we can use the words in Trump's tweets to calculate a measure of the sentiment of the tweet. For example, the sentence \"I love America!\" has positive sentiment, whereas the sentence \"I hate taxes!\" has a negative sentiment. In addition, some words have stronger positive / negative sentiment than others: \"I love America.\" is more positive than \"I like America.\"\n",
    "\n",
    "We will use the [VADER (Valence Aware Dictionary and sEntiment Reasoner)](https://github.com/cjhutto/vaderSentiment) lexicon to analyze the sentiment of Trump's tweets. VADER is a lexicon and rule-based sentiment analysis tool that is specifically attuned to sentiments expressed in social media which is great for our usage.\n",
    "\n",
    "The VADER lexicon gives the sentiment of individual words. Run the following cell to show the first few rows of the lexicon:"
   ]
  },
  {
   "cell_type": "code",
   "execution_count": 35,
   "metadata": {},
   "outputs": [
    {
     "name": "stdout",
     "output_type": "stream",
     "text": [
      "$:\t-1.5\t0.80623\t[-1, -1, -1, -1, -3, -1, -3, -1, -2, -1]\r\n",
      "%)\t-0.4\t1.0198\t[-1, 0, -1, 0, 0, -2, -1, 2, -1, 0]\r\n",
      "%-)\t-1.5\t1.43178\t[-2, 0, -2, -2, -1, 2, -2, -3, -2, -3]\r\n",
      "&-:\t-0.4\t1.42829\t[-3, -1, 0, 0, -1, -1, -1, 2, -1, 2]\r\n",
      "&:\t-0.7\t0.64031\t[0, -1, -1, -1, 1, -1, -1, -1, -1, -1]\r\n",
      "( '}{' )\t1.6\t0.66332\t[1, 2, 2, 1, 1, 2, 2, 1, 3, 1]\r\n",
      "(%\t-0.9\t0.9434\t[0, 0, 1, -1, -1, -1, -2, -2, -1, -2]\r\n",
      "('-:\t2.2\t1.16619\t[4, 1, 4, 3, 1, 2, 3, 1, 2, 1]\r\n",
      "(':\t2.3\t0.9\t[1, 3, 3, 2, 2, 4, 2, 3, 1, 2]\r\n",
      "((-:\t2.1\t0.53852\t[2, 2, 2, 1, 2, 3, 2, 2, 3, 2]\r\n"
     ]
    }
   ],
   "source": [
    "!head vader_lexicon.txt"
   ]
  },
  {
   "cell_type": "markdown",
   "metadata": {},
   "source": [
    "---\n",
    "<br/><br/>\n",
    "\n",
    "## Question 5a\n",
    "\n",
    "As you can see, the lexicon contains emojis too! The first column of the lexicon is the *token*, or the word itself. The second column is the *polarity* of the word, or how positive / negative it is.\n",
    "\n",
    "(How did they decide the polarities of these words? What are the other two columns in the lexicon? See the link above.)\n",
    "\n",
    " Read in the lexicon into a DataFrame called `sent`. The index of the DF should be the tokens in the lexicon. `sent` should have one column: `polarity`: The polarity of each token."
   ]
  },
  {
   "cell_type": "code",
   "execution_count": 36,
   "metadata": {
    "collapsed": true,
    "tags": [
     "student"
    ]
   },
   "outputs": [],
   "source": [
    "sent = pd.read_table('vader_lexicon.txt', header=None)\n",
    "sent = sent.set_index(0).drop([2,3], axis=1)\n",
    "sent.columns = ['polarity']"
   ]
  },
  {
   "cell_type": "code",
   "execution_count": 37,
   "metadata": {
    "tags": [
     "test",
     "q05a"
    ]
   },
   "outputs": [
    {
     "name": "stdout",
     "output_type": "stream",
     "text": [
      "~~~~~~~~~~~~~~~~~~~~~~~~~~~~~~~~~~~~~~~~~~~~~~~~~~~~~~~~~~~~~~~~~~~~~\n",
      "Running tests\n",
      "\n",
      "---------------------------------------------------------------------\n",
      "Test summary\n",
      "    Passed: 1\n",
      "    Failed: 0\n",
      "[ooooooooook] 100.0% passed\n",
      "\n"
     ]
    },
    {
     "data": {
      "application/javascript": [
       "IPython.notebook.save_checkpoint();"
      ],
      "text/plain": [
       "<IPython.core.display.Javascript object>"
      ]
     },
     "metadata": {},
     "output_type": "display_data"
    },
    {
     "data": {
      "application/javascript": [
       "IPython.notebook.save_notebook();"
      ],
      "text/plain": [
       "<IPython.core.display.Javascript object>"
      ]
     },
     "metadata": {},
     "output_type": "display_data"
    },
    {
     "name": "stdout",
     "output_type": "stream",
     "text": [
      "Saving notebook... Saved 'proj1.ipynb'.\n",
      "Submit... 100% complete\n",
      "Submission successful for user: asaha@berkeley.edu\n",
      "URL: https://okpy.org/cal/ds100/fa17/proj1_part1/submissions/OYx6AR\n",
      "NOTE: this is only a backup. To submit your assignment, use:\n",
      "\tpython3 ok --submit\n",
      "\n"
     ]
    }
   ],
   "source": [
    "_ = ok.grade('q05a')\n",
    "_ = ok.backup()"
   ]
  },
  {
   "cell_type": "markdown",
   "metadata": {},
   "source": [
    "---\n",
    "<br/><br/>\n",
    "\n",
    "## Question 5b\n",
    "\n",
    "Now, let's use this lexicon to calculate the overall sentiment for each of Trump's tweets. Here's the basic idea:\n",
    "\n",
    "1. For each tweet, find the sentiment of each word.\n",
    "2. Calculate the sentiment of each tweet by taking the sum of the sentiments of its words.\n",
    "\n",
    "First, let's lowercase the text in the tweets since the lexicon is also lowercase. Set the `text` column of the `trump` DF to be the lowercased text of each tweet."
   ]
  },
  {
   "cell_type": "code",
   "execution_count": 38,
   "metadata": {
    "collapsed": true,
    "tags": [
     "student"
    ]
   },
   "outputs": [],
   "source": [
    "trump['text'] = trump['text'].str.lower()"
   ]
  },
  {
   "cell_type": "code",
   "execution_count": 39,
   "metadata": {
    "tags": [
     "test",
     "q05b"
    ]
   },
   "outputs": [
    {
     "name": "stdout",
     "output_type": "stream",
     "text": [
      "~~~~~~~~~~~~~~~~~~~~~~~~~~~~~~~~~~~~~~~~~~~~~~~~~~~~~~~~~~~~~~~~~~~~~\n",
      "Running tests\n",
      "\n",
      "---------------------------------------------------------------------\n",
      "Test summary\n",
      "    Passed: 1\n",
      "    Failed: 0\n",
      "[ooooooooook] 100.0% passed\n",
      "\n"
     ]
    },
    {
     "data": {
      "application/javascript": [
       "IPython.notebook.save_checkpoint();"
      ],
      "text/plain": [
       "<IPython.core.display.Javascript object>"
      ]
     },
     "metadata": {},
     "output_type": "display_data"
    },
    {
     "data": {
      "application/javascript": [
       "IPython.notebook.save_notebook();"
      ],
      "text/plain": [
       "<IPython.core.display.Javascript object>"
      ]
     },
     "metadata": {},
     "output_type": "display_data"
    },
    {
     "name": "stdout",
     "output_type": "stream",
     "text": [
      "Saving notebook... Saved 'proj1.ipynb'.\n",
      "Submit... 100% complete\n",
      "Submission successful for user: asaha@berkeley.edu\n",
      "URL: https://okpy.org/cal/ds100/fa17/proj1_part1/submissions/QWzgDG\n",
      "NOTE: this is only a backup. To submit your assignment, use:\n",
      "\tpython3 ok --submit\n",
      "\n"
     ]
    }
   ],
   "source": [
    "_ = ok.grade('q05b')\n",
    "_ = ok.backup()"
   ]
  },
  {
   "cell_type": "markdown",
   "metadata": {},
   "source": [
    "---\n",
    "<br/><br/>\n",
    "\n",
    "## Question 5c\n",
    "\n",
    "Now, let's get rid of punctuation since it'll cause us to fail to match words. Create a new column called `no_punc` in the `trump` DF to be the lowercased text of each tweet with all punctuation replaced by a single space. We consider punctuation characters to be any character that isn't a Unicode word character or a whitespace character. You may want to consult the Python documentation on regexes for this problem.\n",
    "\n",
    "(Why don't we simply remove punctuation instead of replacing with a space? See if you can figure this out by looking at the tweet data.)"
   ]
  },
  {
   "cell_type": "code",
   "execution_count": 40,
   "metadata": {
    "collapsed": true,
    "tags": [
     "student"
    ]
   },
   "outputs": [],
   "source": [
    "# Save your regex in punct_re\n",
    "punct_re = r'[^\\s\\w]|_+'\n",
    "trump['no_punc'] = trump['text'].str.replace(punct_re, ' ')"
   ]
  },
  {
   "cell_type": "code",
   "execution_count": 41,
   "metadata": {
    "tags": [
     "test",
     "q05c"
    ]
   },
   "outputs": [
    {
     "name": "stdout",
     "output_type": "stream",
     "text": [
      "~~~~~~~~~~~~~~~~~~~~~~~~~~~~~~~~~~~~~~~~~~~~~~~~~~~~~~~~~~~~~~~~~~~~~\n",
      "Running tests\n",
      "\n",
      "---------------------------------------------------------------------\n",
      "Test summary\n",
      "    Passed: 1\n",
      "    Failed: 0\n",
      "[ooooooooook] 100.0% passed\n",
      "\n"
     ]
    },
    {
     "data": {
      "application/javascript": [
       "IPython.notebook.save_checkpoint();"
      ],
      "text/plain": [
       "<IPython.core.display.Javascript object>"
      ]
     },
     "metadata": {},
     "output_type": "display_data"
    },
    {
     "data": {
      "application/javascript": [
       "IPython.notebook.save_notebook();"
      ],
      "text/plain": [
       "<IPython.core.display.Javascript object>"
      ]
     },
     "metadata": {},
     "output_type": "display_data"
    },
    {
     "name": "stdout",
     "output_type": "stream",
     "text": [
      "Saving notebook... Saved 'proj1.ipynb'.\n",
      "Submit... 100% complete\n",
      "Submission successful for user: asaha@berkeley.edu\n",
      "URL: https://okpy.org/cal/ds100/fa17/proj1_part1/submissions/R6AjEV\n",
      "NOTE: this is only a backup. To submit your assignment, use:\n",
      "\tpython3 ok --submit\n",
      "\n"
     ]
    }
   ],
   "source": [
    "_ = ok.grade('q05c')\n",
    "_ = ok.backup()"
   ]
  },
  {
   "cell_type": "markdown",
   "metadata": {},
   "source": [
    "---\n",
    "<br/> <br/>\n",
    "\n",
    "## Question 5d:\n",
    "\n",
    "\n",
    "Now, let's convert the tweets into what's called a *tidy format* to make the sentiments easier to calculate. Use the `no_punc` column of `trump` to create a table called `tidy_format`. The index of the table should be the IDs of the tweets, repeated once for every word in the tweet. It has two columns:\n",
    "\n",
    "1. `num`: The location of the word in the tweet. For example, if the tweet was \"i love america\", then the location of the word \"i\" is 0, \"love\" is 1, and \"america\" is 2.\n",
    "2. `word`: The individual words of each tweet.\n",
    "\n",
    "The first few rows of our `tidy_format` table look like:\n",
    "\n",
    "<table border=\"1\" class=\"dataframe\">\n",
    "  <thead>\n",
    "    <tr style=\"text-align: right;\">\n",
    "      <th></th>\n",
    "      <th>num</th>\n",
    "      <th>word</th>\n",
    "    </tr>\n",
    "  </thead>\n",
    "  <tbody>\n",
    "    <tr>\n",
    "      <th>907698529606541312</th>\n",
    "      <td>0</td>\n",
    "      <td>it</td>\n",
    "    </tr>\n",
    "    <tr>\n",
    "      <th>907698529606541312</th>\n",
    "      <td>1</td>\n",
    "      <td>was</td>\n",
    "    </tr>\n",
    "    <tr>\n",
    "      <th>907698529606541312</th>\n",
    "      <td>2</td>\n",
    "      <td>a</td>\n",
    "    </tr>\n",
    "    <tr>\n",
    "      <th>907698529606541312</th>\n",
    "      <td>3</td>\n",
    "      <td>great</td>\n",
    "    </tr>\n",
    "    <tr>\n",
    "      <th>907698529606541312</th>\n",
    "      <td>4</td>\n",
    "      <td>honor</td>\n",
    "    </tr>\n",
    "  </tbody>\n",
    "</table>\n",
    "\n",
    "**Note that you'll get different results depending on when you pulled in the tweets.** However, you can double check that your tweet with ID `907698529606541312` has the same rows as ours. Our tests don't check whether your table looks exactly like ours.\n",
    "\n",
    "This will require some rather advanced Pandas hacking, but our solution uses a chain of 5 methods on the `trump` DF.\n",
    "\n",
    "* **Hint 1:** Try looking at the `expand` argument to pandas' `str.split`.\n",
    "\n",
    "* **Hint 2:** Try looking at the `stack()` method.\n"
   ]
  },
  {
   "cell_type": "code",
   "execution_count": 42,
   "metadata": {
    "collapsed": true,
    "tags": [
     "student"
    ]
   },
   "outputs": [],
   "source": [
    "tidy_format = trump['no_punc'].str.split(expand=True).stack().reset_index(level=1)\n",
    "tidy_format.columns = ['num', 'word']"
   ]
  },
  {
   "cell_type": "code",
   "execution_count": 43,
   "metadata": {
    "tags": [
     "test",
     "q05d"
    ]
   },
   "outputs": [
    {
     "name": "stdout",
     "output_type": "stream",
     "text": [
      "~~~~~~~~~~~~~~~~~~~~~~~~~~~~~~~~~~~~~~~~~~~~~~~~~~~~~~~~~~~~~~~~~~~~~\n",
      "Running tests\n",
      "\n",
      "---------------------------------------------------------------------\n",
      "Test summary\n",
      "    Passed: 1\n",
      "    Failed: 0\n",
      "[ooooooooook] 100.0% passed\n",
      "\n"
     ]
    },
    {
     "data": {
      "application/javascript": [
       "IPython.notebook.save_checkpoint();"
      ],
      "text/plain": [
       "<IPython.core.display.Javascript object>"
      ]
     },
     "metadata": {},
     "output_type": "display_data"
    },
    {
     "data": {
      "application/javascript": [
       "IPython.notebook.save_notebook();"
      ],
      "text/plain": [
       "<IPython.core.display.Javascript object>"
      ]
     },
     "metadata": {},
     "output_type": "display_data"
    },
    {
     "name": "stdout",
     "output_type": "stream",
     "text": [
      "Saving notebook... Saved 'proj1.ipynb'.\n",
      "Submit... 100% complete\n",
      "Submission successful for user: asaha@berkeley.edu\n",
      "URL: https://okpy.org/cal/ds100/fa17/proj1_part1/submissions/VOGnLz\n",
      "NOTE: this is only a backup. To submit your assignment, use:\n",
      "\tpython3 ok --submit\n",
      "\n"
     ]
    }
   ],
   "source": [
    "_ = ok.grade('q05d')\n",
    "_ = ok.backup()"
   ]
  },
  {
   "cell_type": "markdown",
   "metadata": {},
   "source": [
    "---\n",
    "<br/> <br/>\n",
    "\n",
    "\n",
    "## Question 5e:\n",
    "\n",
    "Now that we have this table in the tidy format, it becomes much easier to find the sentiment of each tweet: we can join the table with the lexicon table. Calculate a table called `polarities`. Its index should be the IDs of the tweets (one row per ID). It should have one column called `polarity` containing the summed sentiment polarity of each tweet.\n",
    "\n",
    "Here are the first couple rows of our table. Again, you may have different tweet IDs depending on when you downloaded the tweets, but make sure the format looks the same.\n",
    "\n",
    "<table border=\"1\" class=\"dataframe\">\n",
    "  <thead>\n",
    "    <tr style=\"text-align: right;\">\n",
    "      <th></th>\n",
    "      <th>polarity</th>\n",
    "    </tr>\n",
    "    <tr>\n",
    "      <th>index</th>\n",
    "      <th></th>\n",
    "    </tr>\n",
    "  </thead>\n",
    "  <tbody>\n",
    "    <tr>\n",
    "      <th>755486029742641152</th>\n",
    "      <td>0.0</td>\n",
    "    </tr>\n",
    "    <tr>\n",
    "      <th>755502053003190273</th>\n",
    "      <td>0.0</td>\n",
    "    </tr>\n",
    "    <tr>\n",
    "      <th>755525857456844800</th>\n",
    "      <td>2.2</td>\n",
    "    </tr>\n",
    "    <tr>\n",
    "      <th>755551039244341253</th>\n",
    "      <td>6.7</td>\n",
    "    </tr>\n",
    "    <tr>\n",
    "      <th>755708398537154560</th>\n",
    "      <td>7.6</td>\n",
    "    </tr>\n",
    "  </tbody>\n",
    "</table>"
   ]
  },
  {
   "cell_type": "code",
   "execution_count": 44,
   "metadata": {
    "collapsed": true,
    "tags": [
     "student"
    ]
   },
   "outputs": [],
   "source": [
    "tidyDF = tidy_format.reset_index()\n",
    "sentDF = sent.reset_index().rename(columns={0:'word'})\n",
    "polarities = pd.merge(tidyDF, sentDF, how='outer', on='word')\n",
    "polarities = polarities.groupby('index').sum().drop('num', 1).fillna(0.0)"
   ]
  },
  {
   "cell_type": "code",
   "execution_count": 45,
   "metadata": {
    "tags": [
     "test",
     "q05e"
    ]
   },
   "outputs": [
    {
     "name": "stdout",
     "output_type": "stream",
     "text": [
      "~~~~~~~~~~~~~~~~~~~~~~~~~~~~~~~~~~~~~~~~~~~~~~~~~~~~~~~~~~~~~~~~~~~~~\n",
      "Running tests\n",
      "\n",
      "---------------------------------------------------------------------\n",
      "Test summary\n",
      "    Passed: 1\n",
      "    Failed: 0\n",
      "[ooooooooook] 100.0% passed\n",
      "\n"
     ]
    },
    {
     "data": {
      "application/javascript": [
       "IPython.notebook.save_checkpoint();"
      ],
      "text/plain": [
       "<IPython.core.display.Javascript object>"
      ]
     },
     "metadata": {},
     "output_type": "display_data"
    },
    {
     "data": {
      "application/javascript": [
       "IPython.notebook.save_notebook();"
      ],
      "text/plain": [
       "<IPython.core.display.Javascript object>"
      ]
     },
     "metadata": {},
     "output_type": "display_data"
    },
    {
     "name": "stdout",
     "output_type": "stream",
     "text": [
      "Saving notebook... Saved 'proj1.ipynb'.\n",
      "Submit... 100% complete\n",
      "Submission successful for user: asaha@berkeley.edu\n",
      "URL: https://okpy.org/cal/ds100/fa17/proj1_part1/submissions/XDKpNv\n",
      "NOTE: this is only a backup. To submit your assignment, use:\n",
      "\tpython3 ok --submit\n",
      "\n"
     ]
    }
   ],
   "source": [
    "_ = ok.grade('q05e')\n",
    "_ = ok.backup()"
   ]
  },
  {
   "cell_type": "markdown",
   "metadata": {},
   "source": [
    "---\n",
    "<br/> <br/>\n",
    "\n",
    "\n",
    "## Question 5f:\n",
    "\n",
    "Finally, use the `polarities` and `trump` tables to create a new table called `senti` that is the `trump` table with an extra column called `polarity` containing the sentiment polarity of each tweet."
   ]
  },
  {
   "cell_type": "code",
   "execution_count": 46,
   "metadata": {
    "collapsed": true,
    "tags": [
     "student"
    ]
   },
   "outputs": [],
   "source": [
    "senti = pd.merge(polarities.reset_index(), trump.reset_index(), how='outer', on='index').set_index('index')"
   ]
  },
  {
   "cell_type": "code",
   "execution_count": 47,
   "metadata": {
    "tags": [
     "test",
     "q05f"
    ]
   },
   "outputs": [
    {
     "name": "stdout",
     "output_type": "stream",
     "text": [
      "~~~~~~~~~~~~~~~~~~~~~~~~~~~~~~~~~~~~~~~~~~~~~~~~~~~~~~~~~~~~~~~~~~~~~\n",
      "Running tests\n",
      "\n",
      "---------------------------------------------------------------------\n",
      "Test summary\n",
      "    Passed: 1\n",
      "    Failed: 0\n",
      "[ooooooooook] 100.0% passed\n",
      "\n"
     ]
    },
    {
     "data": {
      "application/javascript": [
       "IPython.notebook.save_checkpoint();"
      ],
      "text/plain": [
       "<IPython.core.display.Javascript object>"
      ]
     },
     "metadata": {},
     "output_type": "display_data"
    },
    {
     "data": {
      "application/javascript": [
       "IPython.notebook.save_notebook();"
      ],
      "text/plain": [
       "<IPython.core.display.Javascript object>"
      ]
     },
     "metadata": {},
     "output_type": "display_data"
    },
    {
     "name": "stdout",
     "output_type": "stream",
     "text": [
      "Saving notebook... Saved 'proj1.ipynb'.\n",
      "Submit... 100% complete\n",
      "Submission successful for user: asaha@berkeley.edu\n",
      "URL: https://okpy.org/cal/ds100/fa17/proj1_part1/submissions/YELqOA\n",
      "NOTE: this is only a backup. To submit your assignment, use:\n",
      "\tpython3 ok --submit\n",
      "\n"
     ]
    }
   ],
   "source": [
    "_ = ok.grade('q05f')\n",
    "_ = ok.backup()"
   ]
  },
  {
   "cell_type": "markdown",
   "metadata": {},
   "source": [
    "Now we have a measure of the sentiment of each of his tweets! Note that this calculation is rather basic; you can read over the VADER readme to understand a more robust sentiment analysis.\n",
    "\n",
    "Now, run the cells below to see the most positive and most negative tweets from Trump in your dataset:"
   ]
  },
  {
   "cell_type": "code",
   "execution_count": 48,
   "metadata": {},
   "outputs": [
    {
     "name": "stdout",
     "output_type": "stream",
     "text": [
      "Most negative tweets:\n",
      "   democrat jon ossoff would be a disaster in congress. very weak on crime and illegal immigration, bad for jobs and wants higher taxes. say no\n",
      "   \"@fiiibuster: @jeffzeleny pathetic - you have no sufficient evidence that donald trump did not suffer from voter fraud, shame! bad reporter.\n",
      "   rt @seanspicer: .@timkaine wants to tough on crime - fails to talk about defending rapists and murders #vpdebate\n",
      "   the fake news media has never been so wrong or so dirty. purposely incorrect stories and phony sources to meet their agenda of hate. sad!\n",
      "   the failing new york times foiled u.s. attempt to kill the single most wanted terrorist,al-baghdadi.their sick agenda over national security\n"
     ]
    }
   ],
   "source": [
    "print('Most negative tweets:')\n",
    "for t in senti.sort_values('polarity').head()['text']:\n",
    "    print('  ', t)"
   ]
  },
  {
   "cell_type": "code",
   "execution_count": 49,
   "metadata": {
    "scrolled": true
   },
   "outputs": [
    {
     "name": "stdout",
     "output_type": "stream",
     "text": [
      "Most positive tweets:\n",
      "   thank you to linda bean of l.l.bean for your great support and courage. people will support you even more now. buy l.l.bean. @lbperfectmaine\n",
      "   rt @ivankatrump: 2016 has been one of the most eventful and exciting years of my life. i wish you peace, joy, love and laughter. happy new…\n",
      "   \"@pauladuvall2: we're all enjoying you, as well, mr. t.! you've inspired hope and a positive spirit throughout america! god bless you!\" nice\n",
      "   great honor to be endorsed by popular &amp; successful @gov_gilmore of va. a state that i very much want to win-thx jim! https://t.co/x4y1tafhvn\n",
      "   hope you like my nomination of judge neil gorsuch for the united states supreme court. he is a good and brilliant man, respected by all.\n"
     ]
    }
   ],
   "source": [
    "print('Most positive tweets:')\n",
    "for t in senti.sort_values('polarity', ascending=False).head()['text']:\n",
    "    print('  ', t)"
   ]
  },
  {
   "cell_type": "markdown",
   "metadata": {},
   "source": [
    "---\n",
    "<br></br>\n",
    "\n",
    "## Question 5g\n",
    "\n",
    "Use seaborn to create a `distplot` of the sentiments. What do you notice? (You don't have to write this down in the notebook.)"
   ]
  },
  {
   "cell_type": "code",
   "execution_count": 50,
   "metadata": {
    "tags": [
     "student"
    ]
   },
   "outputs": [
    {
     "data": {
      "text/plain": [
       "<matplotlib.axes._subplots.AxesSubplot at 0x11f4709e8>"
      ]
     },
     "execution_count": 50,
     "metadata": {},
     "output_type": "execute_result"
    },
    {
     "data": {
      "image/png": "[encoded data removed]",
      "text/plain": [
       "<matplotlib.figure.Figure at 0x11f470080>"
      ]
     },
     "metadata": {},
     "output_type": "display_data"
    }
   ],
   "source": [
    "sns.distplot(senti['polarity'])"
   ]
  },
  {
   "cell_type": "markdown",
   "metadata": {},
   "source": [
    "---\n",
    "<br></br>\n",
    "\n",
    "## Question 5h\n",
    "Create a line plot of the sentiment of Trump's tweets over time. Plot the mean sentiment of each month of his tweets over time. Then, plot vertical lines corresponding to his election and inauguration dates. Your final plot should look like:\n",
    "\n",
    "![](senti_time.png)\n",
    "\n",
    "Then, describe what you notice and save your result in the variable `senti_time_answer`."
   ]
  },
  {
   "cell_type": "code",
   "execution_count": 51,
   "metadata": {
    "tags": [
     "student",
     "written"
    ]
   },
   "outputs": [
    {
     "data": {
      "text/markdown": [
       "\n",
       "\n",
       "While election times saw an increase in mean sentiment for Trump's tweets, the plot shows that between election day\n",
       "and inauguration day, Trump's tweets became significantly more negative, as indicated by the sharp drop in mean\n",
       "sentiment. They decreased even further for a couple months, but it seems that Trump's tweets have become more positive\n",
       "in recent months, according to the rise in mean sentiment over time.\n",
       "\n"
      ],
      "text/plain": [
       "<IPython.core.display.Markdown object>"
      ]
     },
     "metadata": {},
     "output_type": "display_data"
    },
    {
     "data": {
      "image/png": "[encoded data removed]",
      "text/plain": [
       "<matplotlib.figure.Figure at 0x11af6f6a0>"
      ]
     },
     "metadata": {},
     "output_type": "display_data"
    }
   ],
   "source": [
    "# Create your plot here...\n",
    "(senti.loc[:, ['est_time', 'polarity']]\n",
    " .set_index('est_time')\n",
    " .resample('M')\n",
    " .mean()\n",
    " .plot(label='polarity')\n",
    ")\n",
    "plt.xlabel('time')\n",
    "plt.legend()\n",
    "plt.axvline('11-08-16', color='r', linestyle='--')\n",
    "plt.axvline('01-20-17', color='r', linestyle='--')\n",
    "# ...then write your takeaways here.\n",
    "senti_time_answer = '''\n",
    "\n",
    "While election times saw an increase in mean sentiment for Trump's tweets, the plot shows that between election day\n",
    "and inauguration day, Trump's tweets became significantly more negative, as indicated by the sharp drop in mean\n",
    "sentiment. They decreased even further for a couple months, but it seems that Trump's tweets have become more positive\n",
    "in recent months, according to the rise in mean sentiment over time.\n",
    "\n",
    "'''\n",
    "display(Markdown(senti_time_answer))"
   ]
  },
  {
   "cell_type": "markdown",
   "metadata": {},
   "source": [
    "## Question 6: Hashtags\n",
    "\n",
    "Let's return now to the problem of determining which tweets were from Trump and which were from his aides. As a reminder, most analysts agree that tweets that came from an Android device were likely from Trump himself, not one of his aides ([example](http://didtrumptweetit.com/machine-learning-tweet-prediction/)).\n",
    "\n",
    "In addition, browsing his Twitter shows that some tweets that sound more \"official\" often have a hashtag, link, or a picture:\n",
    "\n",
    "![](aide.png)\n",
    "\n",
    "Whereas tweets that sound like Trump himself usually don't have a hashtag, link, or picture:\n",
    "\n",
    "![](trump.png)\n",
    "\n",
    "So, we can hypothesize that if a tweet has a hashtag, link, or picture it came from one of Trump's aides, not Trump himself. Let's see if this idea is backed up by the data."
   ]
  },
  {
   "cell_type": "markdown",
   "metadata": {},
   "source": [
    "---\n",
    "<br></br>\n",
    "\n",
    "## Question 6a\n",
    "\n",
    "Create a DF called `hash_or_link` that contains only the rows from the `senti` table where the tweet isn't a retweet and contains a hashtag, link, or picture. We say that:\n",
    "\n",
    "- A tweet is a retweet if it has the string 'rt' anywhere in the tweet if it is preceeded and followed by a non-word character (the start and end of the string count as non-word characters).\n",
    "- A tweet has a hashtag if it has the character '#' anywhere in the tweet followed by a letter.\n",
    "- A tweet contains a link or a picture if it has the word `http` anywhere in the tweet\n",
    "\n",
    "(You can check out Trump's Twitter for why these criteria are true)."
   ]
  },
  {
   "cell_type": "code",
   "execution_count": 52,
   "metadata": {
    "tags": [
     "student"
    ]
   },
   "outputs": [
    {
     "name": "stderr",
     "output_type": "stream",
     "text": [
      "/Users/anish/anaconda3/envs/ds100/lib/python3.6/site-packages/ipykernel_launcher.py:7: UserWarning: This pattern has match groups. To actually get the groups, use str.extract.\n",
      "  import sys\n"
     ]
    }
   ],
   "source": [
    "# You must save your regex for retweets in this variable\n",
    "rt_re = r'(^|\\W)rt(\\W|$)'\n",
    "# You must save your regex for hashtags, links, or pictures in this variable\n",
    "hash_re = r'#\\w.*|http.*'\n",
    "# filtered_rt = senti[senti['text'].str.contains(rt_re)]\n",
    "hash_or_link = senti[senti['text'].str.contains(hash_re)]\n",
    "hash_or_link = hash_or_link[~hash_or_link['text'].str.contains(rt_re)]"
   ]
  },
  {
   "cell_type": "code",
   "execution_count": 53,
   "metadata": {
    "tags": [
     "test",
     "q06a"
    ]
   },
   "outputs": [
    {
     "name": "stdout",
     "output_type": "stream",
     "text": [
      "~~~~~~~~~~~~~~~~~~~~~~~~~~~~~~~~~~~~~~~~~~~~~~~~~~~~~~~~~~~~~~~~~~~~~\n",
      "Running tests\n",
      "\n",
      "---------------------------------------------------------------------\n",
      "Test summary\n",
      "    Passed: 1\n",
      "    Failed: 0\n",
      "[ooooooooook] 100.0% passed\n",
      "\n"
     ]
    },
    {
     "data": {
      "application/javascript": [
       "IPython.notebook.save_checkpoint();"
      ],
      "text/plain": [
       "<IPython.core.display.Javascript object>"
      ]
     },
     "metadata": {},
     "output_type": "display_data"
    },
    {
     "data": {
      "application/javascript": [
       "IPython.notebook.save_notebook();"
      ],
      "text/plain": [
       "<IPython.core.display.Javascript object>"
      ]
     },
     "metadata": {},
     "output_type": "display_data"
    },
    {
     "name": "stdout",
     "output_type": "stream",
     "text": [
      "Saving notebook... Saved 'proj1.ipynb'.\n",
      "Submit... 100% complete\n",
      "Submission successful for user: asaha@berkeley.edu\n",
      "URL: https://okpy.org/cal/ds100/fa17/proj1_part1/submissions/2kZDLM\n",
      "NOTE: this is only a backup. To submit your assignment, use:\n",
      "\tpython3 ok --submit\n",
      "\n"
     ]
    }
   ],
   "source": [
    "_ = ok.grade('q06a')\n",
    "_ = ok.backup()"
   ]
  },
  {
   "cell_type": "markdown",
   "metadata": {},
   "source": [
    "--- \n",
    "<br></br>\n",
    "\n",
    "## Question 6b\n",
    "\n",
    "Create a line plot of the number of tweets containing a hashtag, link, or picture from each tweet device.\n",
    "\n",
    "If a device doesn't have at least 20 tweets in a particular year, don't include the tweets from that device for that year. (Eg. if there are 100 tweets from Twitter Ads in 2016 but only 10 in 2017, plot the counts for Twitter Ads in 2016 but not 2017.)\n",
    "\n",
    "Aggregate the counts for each week period. Your final plot should look like:\n",
    "\n",
    "![](hashtag_by_device.png)\n",
    "\n",
    "*Hint:* If you can get a table in the following format, you can just call `.plot()` on it to generate the plot.\n",
    "\n",
    "<table border=\"1\" class=\"dataframe\">\n",
    "  <thead>\n",
    "    <tr style=\"text-align: right;\">\n",
    "      <th>source</th>\n",
    "      <th>Media Studio</th>\n",
    "      <th>Twitter Ads</th>\n",
    "      <th>Twitter Web Client</th>\n",
    "      <th>Twitter for Android</th>\n",
    "      <th>Twitter for iPhone</th>\n",
    "    </tr>\n",
    "    <tr>\n",
    "      <th>time</th>\n",
    "      <th></th>\n",
    "      <th></th>\n",
    "      <th></th>\n",
    "      <th></th>\n",
    "      <th></th>\n",
    "    </tr>\n",
    "  </thead>\n",
    "  <tbody>\n",
    "    <tr>\n",
    "      <th>2016-07-24</th>\n",
    "      <td>NaN</td>\n",
    "      <td>NaN</td>\n",
    "      <td>4.0</td>\n",
    "      <td>10.0</td>\n",
    "      <td>14.0</td>\n",
    "    </tr>\n",
    "    <tr>\n",
    "      <th>2016-08-07</th>\n",
    "      <td>NaN</td>\n",
    "      <td>NaN</td>\n",
    "      <td>5.0</td>\n",
    "      <td>15.0</td>\n",
    "      <td>91.0</td>\n",
    "    </tr>\n",
    "    <tr>\n",
    "      <th>2016-08-21</th>\n",
    "      <td>NaN</td>\n",
    "      <td>NaN</td>\n",
    "      <td>9.0</td>\n",
    "      <td>10.0</td>\n",
    "      <td>44.0</td>\n",
    "    </tr>\n",
    "    <tr>\n",
    "      <th>2016-09-04</th>\n",
    "      <td>NaN</td>\n",
    "      <td>NaN</td>\n",
    "      <td>0.0</td>\n",
    "      <td>20.0</td>\n",
    "      <td>51.0</td>\n",
    "    </tr>\n",
    "    <tr>\n",
    "      <th>2016-09-18</th>\n",
    "      <td>NaN</td>\n",
    "      <td>NaN</td>\n",
    "      <td>1.0</td>\n",
    "      <td>12.0</td>\n",
    "      <td>59.0</td>\n",
    "    </tr>\n",
    "  </tbody>\n",
    "</table>\n",
    "\n",
    "What conclusions can you draw from this plot? Does this plot allow us to say whether a tweet containing a hashtag/link/picture likely came from Trump himself? Write your takeaways in `hashtag_answer` variable."
   ]
  },
  {
   "cell_type": "code",
   "execution_count": 77,
   "metadata": {
    "tags": [
     "student",
     "written"
    ]
   },
   "outputs": [
    {
     "data": {
      "text/markdown": [
       "\n",
       "\n",
       "It seems that iPhone tweets have the most hashtags, links, and pictures (anecdotally, this is the device \n",
       "that Trump uses). On Twitter Web Client, there were many such tweets around election time. All other devices\n",
       "seem to have relatively low numbers of tweets with hashtags, links, and pictures. This probably means that Trump\n",
       "uses more hashtags, links, and pictures in his tweets (especially prevalent during election season) than his staff.\n",
       "\n"
      ],
      "text/plain": [
       "<IPython.core.display.Markdown object>"
      ]
     },
     "metadata": {},
     "output_type": "display_data"
    },
    {
     "data": {
      "image/png": "[encoded data removed]",
      "text/plain": [
       "<matplotlib.figure.Figure at 0x120a68f98>"
      ]
     },
     "metadata": {},
     "output_type": "display_data"
    }
   ],
   "source": [
    "# Create your plot here...\n",
    "hdf = hash_or_link.copy()\n",
    "hdf['year'] = hdf['time'].dt.year\n",
    "hdf = hdf.groupby(['source','year']).filter(lambda x: len(x)>20)\n",
    "(hdf.loc[:, ['time', 'source']]\n",
    " .set_index('time')\n",
    " .groupby('source')\n",
    " .resample('W')\n",
    " .size()\n",
    " .unstack(level=0)\n",
    " .plot()\n",
    ")\n",
    "# ...then write your takeaways here.\n",
    "hashtag_answer = '''\n",
    "\n",
    "It seems that iPhone tweets have the most hashtags, links, and pictures (anecdotally, this is the device \n",
    "that Trump uses). On Twitter Web Client, there were many such tweets around election time. All other devices\n",
    "seem to have relatively low numbers of tweets with hashtags, links, and pictures. This probably means that Trump\n",
    "uses more hashtags, links, and pictures in his tweets (especially prevalent during election season) than his staff.\n",
    "\n",
    "'''\n",
    "display(Markdown(hashtag_answer))"
   ]
  },
  {
   "cell_type": "markdown",
   "metadata": {},
   "source": [
    "--- \n",
    "<br></br>\n",
    "\n",
    "## Question 6c \n",
    "\n",
    "Now, let's see whether there's a difference in sentiment for tweets with hashtags and those without.\n",
    "\n",
    "Create a line plot of the sentiment of Trump's non-retweet tweets over time, taking the mean sentiment for every month. Plot one line for tweets with hashtags and one for tweets without. Then, draw two vertical lines for the election date and inauguration date. Draw a horizontal line for y=0. Your plot should look like:\n",
    "\n",
    "![](hash_senti.png)\n",
    "\n",
    "What do you notice about the plot? What conclusions can you draw? Write your answers in `hash_senti_answer`.\n",
    "\n",
    "Hint 1: You'll want to start use your `senti` table, not your `hash_or_link` table. Try adding a column to `senti` containing True if the tweet has a hashtag/link/picture.\n",
    "\n",
    "Hint 2: You shouldn't use your `no_punc` column. Think about why not."
   ]
  },
  {
   "cell_type": "code",
   "execution_count": 152,
   "metadata": {
    "tags": [
     "student",
     "written"
    ]
   },
   "outputs": [
    {
     "name": "stderr",
     "output_type": "stream",
     "text": [
      "/Users/anish/anaconda3/envs/ds100/lib/python3.6/site-packages/ipykernel_launcher.py:2: UserWarning: This pattern has match groups. To actually get the groups, use str.extract.\n",
      "  \n",
      "/Users/anish/anaconda3/envs/ds100/lib/python3.6/site-packages/ipykernel_launcher.py:2: UserWarning: Boolean Series key will be reindexed to match DataFrame index.\n",
      "  \n",
      "/Users/anish/anaconda3/envs/ds100/lib/python3.6/site-packages/ipykernel_launcher.py:3: UserWarning: This pattern has match groups. To actually get the groups, use str.extract.\n",
      "  This is separate from the ipykernel package so we can avoid doing imports until\n",
      "/Users/anish/anaconda3/envs/ds100/lib/python3.6/site-packages/ipykernel_launcher.py:3: UserWarning: Boolean Series key will be reindexed to match DataFrame index.\n",
      "  This is separate from the ipykernel package so we can avoid doing imports until\n"
     ]
    },
    {
     "data": {
      "text/markdown": [
       "\n",
       "\n",
       "It seems that in general, from this graph, the mean seniment of hashtag tweets seems to be higher than\n",
       "that of tweets without hashtags. Right before the election however, the sentiments of both types of tweets \n",
       "was approximately the same. Nevertheless, both types of tweets saw a significant decrease in mean sentiment\n",
       "between election day and inauguration day. Overall, however, while non-hashtag tweets continue to have a lower\n",
       "mean sentiment, all of Trump's tweets seem to be improving in terms of mean sentiment in recent months.\n",
       "\n"
      ],
      "text/plain": [
       "<IPython.core.display.Markdown object>"
      ]
     },
     "metadata": {},
     "output_type": "display_data"
    },
    {
     "data": {
      "image/png": "[encoded data removed]",
      "text/plain": [
       "<matplotlib.figure.Figure at 0x121d8f358>"
      ]
     },
     "metadata": {},
     "output_type": "display_data"
    }
   ],
   "source": [
    "# Create your plot here...\n",
    "false_df = senti[~senti['text'].str.contains(hash_re)][~senti['text'].str.contains(rt_re)]\n",
    "true_df = senti[senti['text'].str.contains(hash_re)][~senti['text'].str.contains(rt_re)]\n",
    "\n",
    "plt.plot(false_df.loc[:, ['est_time', 'polarity']]\n",
    " .set_index('est_time')\n",
    " .resample('M')\n",
    " .mean()\n",
    " ,label = 'False'\n",
    ")\n",
    "\n",
    "plt.plot(true_df.loc[:, ['est_time', 'polarity']]\n",
    " .set_index('est_time')\n",
    " .resample('M')\n",
    " .mean()\n",
    " ,label = 'True'\n",
    ")\n",
    "\n",
    "plt.xlabel('time')\n",
    "plt.axvline('11-08-16', color='r', linestyle='--')\n",
    "plt.axvline('01-20-17', color='r', linestyle='--')\n",
    "plt.axhline(0, color='black', linestyle='-')\n",
    "plt.legend()\n",
    "\n",
    "# ...then write your takeaways here.\n",
    "hash_senti_answer = '''\n",
    "\n",
    "It seems that in general, from this graph, the mean seniment of hashtag tweets seems to be higher than\n",
    "that of tweets without hashtags. Right before the election however, the sentiments of both types of tweets \n",
    "was approximately the same. Nevertheless, both types of tweets saw a significant decrease in mean sentiment\n",
    "between election day and inauguration day. Overall, however, while non-hashtag tweets continue to have a lower\n",
    "mean sentiment, all of Trump's tweets seem to be improving in terms of mean sentiment in recent months.\n",
    "\n",
    "'''\n",
    "display(Markdown(hash_senti_answer))"
   ]
  },
  {
   "cell_type": "markdown",
   "metadata": {},
   "source": [
    "--- \n",
    "\n",
    "## Question 7: Engagement\n",
    "\n",
    "---\n",
    "<br></br>\n",
    "## Question 7a\n",
    "\n",
    "Which of Trump's tweets had the most retweets? Were there certain words that often led to more retweets?\n",
    "\n",
    "We can find this out by using our `tidy_format` DataFrame. For each word in the `tidy_format` DF, find out the number of retweets that its tweet got. Filter out words that didn't appear in at least 25 tweets, find out the median number of retweets each word got, and save the top 20 most retweeted words into a DataFrame called `top_20`. Your `top_20` table should have this format:\n",
    "\n",
    "<table border=\"1\" class=\"dataframe\">\n",
    "  <thead>\n",
    "    <tr style=\"text-align: right;\">\n",
    "      <th></th>\n",
    "      <th>retweet_count</th>\n",
    "    </tr>\n",
    "    <tr>\n",
    "      <th>word</th>\n",
    "      <th></th>\n",
    "    </tr>\n",
    "  </thead>\n",
    "  <tbody>\n",
    "    <tr>\n",
    "      <th>fake</th>\n",
    "      <td>22963.0</td>\n",
    "    </tr>\n",
    "    <tr>\n",
    "      <th>news</th>\n",
    "      <td>20463.0</td>\n",
    "    </tr>\n",
    "    <tr>\n",
    "      <th>ds100</th>\n",
    "      <td>20432.0</td>\n",
    "    </tr>\n",
    "    <tr>\n",
    "      <th>great</th>\n",
    "      <td>20159.0</td>\n",
    "    </tr>\n",
    "    <tr>\n",
    "      <th>class</th>\n",
    "      <td>20121.0</td>\n",
    "    </tr>\n",
    "  </tbody>\n",
    "</table>"
   ]
  },
  {
   "cell_type": "code",
   "execution_count": 119,
   "metadata": {
    "collapsed": true,
    "tags": [
     "student"
    ]
   },
   "outputs": [],
   "source": [
    "#top_20 = ...\n",
    "# words_arr = list(set(tidy_format['word'].tolist()))\n",
    "# retweets_arr = [0] * len(words_arr)\n",
    "# for i in senti['text']:\n",
    "#     for j in range(len(words_arr)):\n",
    "#         if words_arr[j] in i:\n",
    "#             retweets_arr[j] += senti.loc[senti['text'] == i]['retweet_count']\n",
    "# retweets_arr\n",
    "word_count = pd.DataFrame({'count':tidy_format['word'].value_counts()}, index=tidy_format['word'])\n",
    "word_count = word_count.loc[word_count['count']>=25]\n",
    "word_arr = word_count.index.tolist()\n",
    "rt_words = pd.merge(tidy_format, trump, left_index=True, right_index=True, how='left')\n",
    "rt_counts = rt_words.groupby(['word']).retweet_count.median()\n",
    "rt_data = pd.DataFrame({'retweet_count': rt_counts}, index=rt_words['word'])\n",
    "rt_data = rt_data.groupby(['word']).filter(lambda x: len(x)>=25)\n",
    "rt_data = rt_data.drop_duplicates(keep='last').sort_values('retweet_count', ascending=False)\n",
    "top_20 = rt_data.head(20)"
   ]
  },
  {
   "cell_type": "code",
   "execution_count": 121,
   "metadata": {
    "tags": [
     "test",
     "q07a"
    ]
   },
   "outputs": [
    {
     "name": "stdout",
     "output_type": "stream",
     "text": [
      "~~~~~~~~~~~~~~~~~~~~~~~~~~~~~~~~~~~~~~~~~~~~~~~~~~~~~~~~~~~~~~~~~~~~~\n",
      "Running tests\n",
      "\n",
      "---------------------------------------------------------------------\n",
      "Test summary\n",
      "    Passed: 1\n",
      "    Failed: 0\n",
      "[ooooooooook] 100.0% passed\n",
      "\n"
     ]
    },
    {
     "data": {
      "application/javascript": [
       "IPython.notebook.save_checkpoint();"
      ],
      "text/plain": [
       "<IPython.core.display.Javascript object>"
      ]
     },
     "metadata": {},
     "output_type": "display_data"
    },
    {
     "data": {
      "application/javascript": [
       "IPython.notebook.save_notebook();"
      ],
      "text/plain": [
       "<IPython.core.display.Javascript object>"
      ]
     },
     "metadata": {},
     "output_type": "display_data"
    },
    {
     "name": "stdout",
     "output_type": "stream",
     "text": [
      "Saving notebook... Saved 'proj1.ipynb'.\n",
      "Submit... 100% complete\n",
      "Submission successful for user: asaha@berkeley.edu\n",
      "URL: https://okpy.org/cal/ds100/fa17/proj1_part1/submissions/318JAr\n",
      "NOTE: this is only a backup. To submit your assignment, use:\n",
      "\tpython3 ok --submit\n",
      "\n"
     ]
    }
   ],
   "source": [
    "_ = ok.grade('q07a')\n",
    "_ = ok.backup()"
   ]
  },
  {
   "cell_type": "markdown",
   "metadata": {},
   "source": [
    "Here's a bar chart of your results:"
   ]
  },
  {
   "cell_type": "code",
   "execution_count": 122,
   "metadata": {},
   "outputs": [
    {
     "data": {
      "text/plain": [
       "<matplotlib.axes._subplots.AxesSubplot at 0x11fccc438>"
      ]
     },
     "execution_count": 122,
     "metadata": {},
     "output_type": "execute_result"
    },
    {
     "data": {
      "image/png": "[encoded data removed]",
      "text/plain": [
       "<matplotlib.figure.Figure at 0x11f4d4780>"
      ]
     },
     "metadata": {},
     "output_type": "display_data"
    }
   ],
   "source": [
    "top_20['retweet_count'].sort_values().plot.barh(figsize=(10, 8))"
   ]
  },
  {
   "cell_type": "markdown",
   "metadata": {},
   "source": [
    "---\n",
    "<br></br>\n",
    "\n",
    "## Question 7b\n",
    "\n",
    "The phrase \"fake news\" is apparently really popular! We can conclude that Trump's tweets containing \"fake\" and/or \"news\" result in the most retweets relative to words his other tweets. Or can we?\n",
    "\n",
    "Consider each of the statements about possible confounding factors below. State whether each statement is true or false and explain. If the statement is true, state whether the confounding factor could have made \"fake\" and/or \"news\" higher on our list than they should be.\n",
    "\n",
    "1. We didn't restrict our word list to nouns, so we have unhelpful words like \"let\" and \"any\" in our result.\n",
    "1. We didn't remove hashtags in our text, so we have duplicate words (eg. #great and great).\n",
    "1. We didn't account for the fact that Trump's follower count has increased over time."
   ]
  },
  {
   "cell_type": "code",
   "execution_count": 133,
   "metadata": {
    "tags": [
     "student",
     "written"
    ]
   },
   "outputs": [
    {
     "data": {
      "text/markdown": [
       "\n",
       "\n",
       "1. True. This confounding factor also allows 'should' and 'sad' in the top 20 words used. Without them, \n",
       "   'news' actually be ranked higher, although 'fake' would remain at the top.\n",
       "2. True\n",
       "3. True. We did not account for Trump's increased follower count over time, and this would mean that words that\n",
       "   appeared earlier in Trump's Twitter activity would be more likely to receive fewer retweets. Since 'fake news'\n",
       "   is a relatively new phrase, this confounding factor might mean that those words should be ranked lower in our list.\n",
       "\n"
      ],
      "text/plain": [
       "<IPython.core.display.Markdown object>"
      ]
     },
     "metadata": {},
     "output_type": "display_data"
    }
   ],
   "source": [
    "engagement_answer = '''\n",
    "\n",
    "1. True. This confounding factor also allows 'should' and 'sad' in the top 20 words used. Without them, \n",
    "   'news' would be ranked higher, although 'fake' would stay at the top. The rank of these words would not decrease.\n",
    "2. False. Hashtags were removed in our tidy_format dataframe, so this confounding factor would not occur in our data.\n",
    "3. True. We did not account for Trump's increased follower count over time, and this would mean that words that\n",
    "   appeared earlier in Trump's Twitter activity would be more likely to receive fewer retweets. Since 'fake news'\n",
    "   is a relatively new phrase, this confounding factor might mean that those words should be ranked lower in our list.\n",
    "\n",
    "'''\n",
    "display(Markdown(engagement_answer))"
   ]
  },
  {
   "cell_type": "code",
   "execution_count": 139,
   "metadata": {},
   "outputs": [
    {
     "data": {
      "text/plain": [
       "False"
      ]
     },
     "execution_count": 139,
     "metadata": {},
     "output_type": "execute_result"
    }
   ],
   "source": [
    "confound = False\n",
    "for i in tidy_format['word'].tolist():\n",
    "    if '#' in i:\n",
    "        confound = True\n",
    "confound"
   ]
  },
  {
   "cell_type": "markdown",
   "metadata": {},
   "source": [
    "---\n",
    "## Question 8: Fake News\n",
    "\n",
    "---\n",
    "<br></br>\n",
    "## Question 8a \n",
    "\n",
    "Let's investigate the term \"fake news\" a bit more. Create a table called `fake_counts` that has two columns:\n",
    "\n",
    "1. `fake_news`: The number of tweets containing the term \"fake news\".\n",
    "1. `total`: The total number of tweets for the time period.\n",
    "\n",
    "The index of the table should be datetimes for each two-week period in the data.\n",
    "\n",
    "The resulting table should look like:\n",
    "\n",
    "<table border=\"1\" class=\"dataframe\">\n",
    "  <thead>\n",
    "    <tr style=\"text-align: right;\">\n",
    "      <th></th>\n",
    "      <th>fake_news</th>\n",
    "      <th>total</th>\n",
    "    </tr>\n",
    "    <tr>\n",
    "      <th>time</th>\n",
    "      <th></th>\n",
    "      <th></th>\n",
    "    </tr>\n",
    "  </thead>\n",
    "  <tbody>\n",
    "    <tr>\n",
    "      <th>2016-07-31</th>\n",
    "      <td>0</td>\n",
    "      <td>79</td>\n",
    "    </tr>\n",
    "    <tr>\n",
    "      <th>2016-08-14</th>\n",
    "      <td>0</td>\n",
    "      <td>143</td>\n",
    "    </tr>\n",
    "    <tr>\n",
    "      <th>2016-08-28</th>\n",
    "      <td>0</td>\n",
    "      <td>118</td>\n",
    "    </tr>\n",
    "    <tr>\n",
    "      <th>2016-09-11</th>\n",
    "      <td>0</td>\n",
    "      <td>121</td>\n",
    "    </tr>\n",
    "    <tr>\n",
    "      <th>2016-09-25</th>\n",
    "      <td>0</td>\n",
    "      <td>111</td>\n",
    "    </tr>\n",
    "  </tbody>\n",
    "</table>"
   ]
  },
  {
   "cell_type": "code",
   "execution_count": 125,
   "metadata": {
    "collapsed": true,
    "tags": [
     "student"
    ]
   },
   "outputs": [],
   "source": [
    "all_tweets = senti.set_index('time').resample('2W').size()\n",
    "fake_tweets = senti[senti['text'].str.contains('fake news')].set_index('time').resample('2W').size()\n",
    "fake_counts = pd.DataFrame({'fake_news': fake_tweets, 'total': all_tweets}, index=all_tweets.index).fillna(0)"
   ]
  },
  {
   "cell_type": "code",
   "execution_count": 126,
   "metadata": {
    "tags": [
     "test",
     "q08a"
    ]
   },
   "outputs": [
    {
     "name": "stdout",
     "output_type": "stream",
     "text": [
      "~~~~~~~~~~~~~~~~~~~~~~~~~~~~~~~~~~~~~~~~~~~~~~~~~~~~~~~~~~~~~~~~~~~~~\n",
      "Running tests\n",
      "\n",
      "---------------------------------------------------------------------\n",
      "Test summary\n",
      "    Passed: 1\n",
      "    Failed: 0\n",
      "[ooooooooook] 100.0% passed\n",
      "\n"
     ]
    },
    {
     "data": {
      "application/javascript": [
       "IPython.notebook.save_checkpoint();"
      ],
      "text/plain": [
       "<IPython.core.display.Javascript object>"
      ]
     },
     "metadata": {},
     "output_type": "display_data"
    },
    {
     "data": {
      "application/javascript": [
       "IPython.notebook.save_notebook();"
      ],
      "text/plain": [
       "<IPython.core.display.Javascript object>"
      ]
     },
     "metadata": {},
     "output_type": "display_data"
    },
    {
     "name": "stdout",
     "output_type": "stream",
     "text": [
      "Saving notebook... Saved 'proj1.ipynb'.\n",
      "Submit... 100% complete\n",
      "Submission successful for user: asaha@berkeley.edu\n",
      "URL: https://okpy.org/cal/ds100/fa17/proj1_part1/submissions/J6pXml\n",
      "NOTE: this is only a backup. To submit your assignment, use:\n",
      "\tpython3 ok --submit\n",
      "\n"
     ]
    }
   ],
   "source": [
    "_ = ok.grade('q08a')\n",
    "_ = ok.backup()"
   ]
  },
  {
   "cell_type": "markdown",
   "metadata": {},
   "source": [
    "--- \n",
    "<br></br>\n",
    "\n",
    "## Question 8b\n",
    "\n",
    "Now, create a line plot showing the proportion of tweets containing the term \"fake news\" over time. Then, draw two vertical lines corresponding to the election and inauguration dates.\n",
    "\n",
    "What do you notice? Write your conclusions in `fake_news_answer`."
   ]
  },
  {
   "cell_type": "code",
   "execution_count": 127,
   "metadata": {
    "tags": [
     "student",
     "written"
    ]
   },
   "outputs": [
    {
     "data": {
      "text/markdown": [
       "\n",
       "\n",
       "It seems that the use of 'fake news', while invented shortly after election day, its use spiked shortly before\n",
       "election day. Moreover, its use continue to be popular in the next few months, but was used infrequently in May.\n",
       "Still, the usage of 'fake news' has fluctuated in recent months, remaining a relatively popular term throughout \n",
       "all of Trump's tweets in the past year. \n",
       "\n"
      ],
      "text/plain": [
       "<IPython.core.display.Markdown object>"
      ]
     },
     "metadata": {},
     "output_type": "display_data"
    },
    {
     "data": {
      "image/png": "[encoded data removed]",
      "text/plain": [
       "<matplotlib.figure.Figure at 0x11ff66e48>"
      ]
     },
     "metadata": {},
     "output_type": "display_data"
    }
   ],
   "source": [
    "# Create your plot here...\n",
    "\n",
    "fake_df = fake_counts.copy()\n",
    "fake_df['ratio'] = fake_df['fake_news']/fake_df['total']\n",
    "fake_df['time'] = fake_df.index\n",
    "fake_df.plot('time', 'ratio')\n",
    "plt.axvline('11-08-16', color='r', linestyle='--')\n",
    "plt.axvline('01-20-17', color='r', linestyle='--')\n",
    "\n",
    "# ...then write your takeaways here.\n",
    "fake_news_answer = '''\n",
    "\n",
    "It seems that the use of 'fake news', while invented shortly after election day, its use spiked shortly before\n",
    "election day. Moreover, its use continue to be popular in the next few months, but was used infrequently in May.\n",
    "Still, the usage of 'fake news' has fluctuated in recent months, remaining a relatively popular term throughout \n",
    "all of Trump's tweets in the past year. \n",
    "\n",
    "'''\n",
    "display(Markdown(fake_news_answer))"
   ]
  },
  {
   "cell_type": "markdown",
   "metadata": {},
   "source": [
    "## Submission\n",
    "\n",
    "Congrats, you just finished Project 1!\n",
    "\n",
    "Run the cell below to run all the OkPy tests at once:"
   ]
  },
  {
   "cell_type": "code",
   "execution_count": 153,
   "metadata": {},
   "outputs": [
    {
     "name": "stdout",
     "output_type": "stream",
     "text": [
      "Running all tests...\n",
      "~~~~~~~~~~~~~~~~~~~~~~~~~~~~~~~~~~~~~~~~~~~~~~~~~~~~~~~~~~~~~~~~~~~~~\n",
      "Running tests\n",
      "\n",
      "---------------------------------------------------------------------\n",
      "Test summary\n",
      "    Passed: 1\n",
      "    Failed: 0\n",
      "[ooooooooook] 100.0% passed\n",
      "\n",
      "~~~~~~~~~~~~~~~~~~~~~~~~~~~~~~~~~~~~~~~~~~~~~~~~~~~~~~~~~~~~~~~~~~~~~\n",
      "Running tests\n",
      "\n",
      "---------------------------------------------------------------------\n",
      "Test summary\n",
      "    Passed: 1\n",
      "    Failed: 0\n",
      "[ooooooooook] 100.0% passed\n",
      "\n",
      "~~~~~~~~~~~~~~~~~~~~~~~~~~~~~~~~~~~~~~~~~~~~~~~~~~~~~~~~~~~~~~~~~~~~~\n",
      "Running tests\n",
      "\n",
      "---------------------------------------------------------------------\n",
      "Test summary\n",
      "    Passed: 1\n",
      "    Failed: 0\n",
      "[ooooooooook] 100.0% passed\n",
      "\n",
      "~~~~~~~~~~~~~~~~~~~~~~~~~~~~~~~~~~~~~~~~~~~~~~~~~~~~~~~~~~~~~~~~~~~~~\n",
      "Running tests\n",
      "\n",
      "---------------------------------------------------------------------\n",
      "Test summary\n",
      "    Passed: 1\n",
      "    Failed: 0\n",
      "[ooooooooook] 100.0% passed\n",
      "\n",
      "~~~~~~~~~~~~~~~~~~~~~~~~~~~~~~~~~~~~~~~~~~~~~~~~~~~~~~~~~~~~~~~~~~~~~\n",
      "Running tests\n",
      "\n",
      "---------------------------------------------------------------------\n",
      "Test summary\n",
      "    Passed: 1\n",
      "    Failed: 0\n",
      "[ooooooooook] 100.0% passed\n",
      "\n",
      "~~~~~~~~~~~~~~~~~~~~~~~~~~~~~~~~~~~~~~~~~~~~~~~~~~~~~~~~~~~~~~~~~~~~~\n",
      "Running tests\n",
      "\n",
      "---------------------------------------------------------------------\n",
      "Test summary\n",
      "    Passed: 1\n",
      "    Failed: 0\n",
      "[ooooooooook] 100.0% passed\n",
      "\n",
      "~~~~~~~~~~~~~~~~~~~~~~~~~~~~~~~~~~~~~~~~~~~~~~~~~~~~~~~~~~~~~~~~~~~~~\n",
      "Running tests\n",
      "\n",
      "---------------------------------------------------------------------\n",
      "Test summary\n",
      "    Passed: 1\n",
      "    Failed: 0\n",
      "[ooooooooook] 100.0% passed\n",
      "\n",
      "~~~~~~~~~~~~~~~~~~~~~~~~~~~~~~~~~~~~~~~~~~~~~~~~~~~~~~~~~~~~~~~~~~~~~\n",
      "Running tests\n",
      "\n",
      "---------------------------------------------------------------------\n",
      "Test summary\n",
      "    Passed: 1\n",
      "    Failed: 0\n",
      "[ooooooooook] 100.0% passed\n",
      "\n",
      "~~~~~~~~~~~~~~~~~~~~~~~~~~~~~~~~~~~~~~~~~~~~~~~~~~~~~~~~~~~~~~~~~~~~~\n",
      "Running tests\n",
      "\n",
      "---------------------------------------------------------------------\n",
      "Test summary\n",
      "    Passed: 1\n",
      "    Failed: 0\n",
      "[ooooooooook] 100.0% passed\n",
      "\n",
      "~~~~~~~~~~~~~~~~~~~~~~~~~~~~~~~~~~~~~~~~~~~~~~~~~~~~~~~~~~~~~~~~~~~~~\n",
      "Running tests\n",
      "\n",
      "---------------------------------------------------------------------\n",
      "Test summary\n",
      "    Passed: 1\n",
      "    Failed: 0\n",
      "[ooooooooook] 100.0% passed\n",
      "\n",
      "~~~~~~~~~~~~~~~~~~~~~~~~~~~~~~~~~~~~~~~~~~~~~~~~~~~~~~~~~~~~~~~~~~~~~\n",
      "Running tests\n",
      "\n",
      "---------------------------------------------------------------------\n",
      "Test summary\n",
      "    Passed: 1\n",
      "    Failed: 0\n",
      "[ooooooooook] 100.0% passed\n",
      "\n"
     ]
    }
   ],
   "source": [
    "import os\n",
    "print(\"Running all tests...\")\n",
    "_ = [ok.grade(q[:-3]) for q in os.listdir(\"ok_tests\") if q.startswith('q')]"
   ]
  },
  {
   "cell_type": "markdown",
   "metadata": {},
   "source": [
    "Now, run the cell below to submit your assignment to OkPy. The autograder should email you shortly with your autograded score. The autograder will only run once every 30 minutes.\n",
    "\n",
    "**If you're failing tests on the autograder but pass them locally**, you should simulate the autograder by doing the following:\n",
    "\n",
    "1. In the top menu, click Kernel -> Restart and Run all.\n",
    "2. Run the cell above to run each OkPy test.\n",
    "\n",
    "**You must make sure that you pass all the tests when running steps 1 and 2 in order.** If you are still failing autograder tests, you should double check your results."
   ]
  },
  {
   "cell_type": "code",
   "execution_count": 155,
   "metadata": {},
   "outputs": [
    {
     "data": {
      "application/javascript": [
       "IPython.notebook.save_checkpoint();"
      ],
      "text/plain": [
       "<IPython.core.display.Javascript object>"
      ]
     },
     "metadata": {},
     "output_type": "display_data"
    },
    {
     "data": {
      "application/javascript": [
       "IPython.notebook.save_notebook();"
      ],
      "text/plain": [
       "<IPython.core.display.Javascript object>"
      ]
     },
     "metadata": {},
     "output_type": "display_data"
    },
    {
     "name": "stdout",
     "output_type": "stream",
     "text": [
      "Saving notebook... Saved 'proj1.ipynb'.\n",
      "Submit... 100% complete\n",
      "Submission successful for user: asaha@berkeley.edu\n",
      "URL: https://okpy.org/cal/ds100/fa17/proj1_part1/submissions/o2zKRz\n",
      "NOTE: this is only a backup. To submit your assignment, use:\n",
      "\tpython3 ok --submit\n",
      "\n"
     ]
    }
   ],
   "source": [
    "_ = ok.submit()"
   ]
  },
  {
   "cell_type": "code",
   "execution_count": 129,
   "metadata": {
    "collapsed": true
   },
   "outputs": [],
   "source": [
    "# GSI BIYE JIANG said to leave a comment in my code and make a private Piazza post for this issue.\n",
    "# My data was pulled later due to the fact that I had to restart the project, so my data was different \n",
    "# and as a result, some of my graphs look different from the staff solution. Please see my dataframes\n",
    "# for further inspection for grading. Thanks! -- Anish Saha"
   ]
  },
  {
   "cell_type": "code",
   "execution_count": null,
   "metadata": {
    "collapsed": true
   },
   "outputs": [],
   "source": []
  }
 ],
 "metadata": {
  "kernelspec": {
   "display_name": "Python 3",
   "language": "python",
   "name": "python3"
  },
  "language_info": {
   "codemirror_mode": {
    "name": "ipython",
    "version": 3
   },
   "file_extension": ".py",
   "mimetype": "text/x-python",
   "name": "python",
   "nbconvert_exporter": "python",
   "pygments_lexer": "ipython3",
   "version": "3.6.1"
  }
 },
 "nbformat": 4,
 "nbformat_minor": 2
}
